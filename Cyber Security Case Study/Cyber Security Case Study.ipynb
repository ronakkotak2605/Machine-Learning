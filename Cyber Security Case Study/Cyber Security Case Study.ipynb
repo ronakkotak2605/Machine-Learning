{
 "cells": [
  {
   "cell_type": "code",
   "execution_count": 1,
   "id": "3e3ee554",
   "metadata": {},
   "outputs": [],
   "source": [
    "import pandas as pd\n",
    "import numpy as np\n",
    "import matplotlib.pyplot as plt"
   ]
  },
  {
   "cell_type": "code",
   "execution_count": 2,
   "id": "5f842491",
   "metadata": {
    "scrolled": true
   },
   "outputs": [
    {
     "name": "stdout",
     "output_type": "stream",
     "text": [
      "Requirement already satisfied: sklearn in c:\\users\\saach\\anaconda3\\lib\\site-packages (0.0)\n",
      "Requirement already satisfied: scikit-learn in c:\\users\\saach\\anaconda3\\lib\\site-packages (from sklearn) (0.24.1)\n",
      "Requirement already satisfied: joblib>=0.11 in c:\\users\\saach\\anaconda3\\lib\\site-packages (from scikit-learn->sklearn) (1.0.1)\n",
      "Requirement already satisfied: scipy>=0.19.1 in c:\\users\\saach\\anaconda3\\lib\\site-packages (from scikit-learn->sklearn) (1.6.2)\n",
      "Requirement already satisfied: numpy>=1.13.3 in c:\\users\\saach\\anaconda3\\lib\\site-packages (from scikit-learn->sklearn) (1.20.1)\n",
      "Requirement already satisfied: threadpoolctl>=2.0.0 in c:\\users\\saach\\anaconda3\\lib\\site-packages (from scikit-learn->sklearn) (2.1.0)\n"
     ]
    }
   ],
   "source": [
    "!pip install sklearn\n",
    "#import statsmodel.formula.api as smf\n"
   ]
  },
  {
   "cell_type": "code",
   "execution_count": 3,
   "id": "113c04fe",
   "metadata": {},
   "outputs": [],
   "source": [
    "from sklearn import metrics\n",
    "from sklearn.model_selection import train_test_split, GridSearchCV"
   ]
  },
  {
   "cell_type": "code",
   "execution_count": 4,
   "id": "21535a17",
   "metadata": {},
   "outputs": [],
   "source": [
    "data_Back = pd.read_csv(\"Data_of_Attack_Back.csv\")\n",
    "data_Back[\"Attack\"] = \"Back\"\n",
    "data_BufferOverFlow = pd.read_csv(\"Data_of_Attack_Back_BufferOverflow.csv\")\n",
    "data_BufferOverFlow[\"Attack\"] = \"BufferOverFlow\"\n",
    "data_GuessPassword = pd.read_csv(\"Data_of_Attack_Back_GuessPassword.csv\")\n",
    "data_GuessPassword[\"Attack\"] = \"GuessPassword\"\n",
    "data_Neptune = pd.read_csv(\"Data_of_Attack_Back_Neptune.csv\")\n",
    "data_Neptune[\"Attack\"] = \"Neptune\"\n",
    "data_NMap = pd.read_csv(\"Data_of_Attack_Back_NMap.csv\")\n",
    "data_NMap[\"Attack\"] = \"NMap\"\n",
    "data_Normal = pd.read_csv(\"Data_of_Attack_Back_Normal.csv\")\n",
    "data_Normal[\"Attack\"] = \"Normal\"\n",
    "data_PortSweep = pd.read_csv(\"Data_of_Attack_Back_PortSweep.csv\")\n",
    "data_PortSweep[\"Attack\"] = \"PortSweep\"\n",
    "data_RootKit = pd.read_csv(\"Data_of_Attack_Back_RootKit.csv\")\n",
    "data_RootKit[\"Attack\"] = \"RootKit\"\n",
    "data_Satan = pd.read_csv(\"Data_of_Attack_Back_Satan.csv\")\n",
    "data_Satan[\"Attack\"] = \"Satan\"\n",
    "data_Smurf = pd.read_csv(\"Data_of_Attack_Back_Smurf.csv\")\n",
    "data_Smurf[\"Attack\"] = \"Smurf\""
   ]
  },
  {
   "cell_type": "code",
   "execution_count": 5,
   "id": "dcb6f7fc",
   "metadata": {},
   "outputs": [],
   "source": [
    "data_FTPWrite = pd.read_csv(\"Data_of_Attack_Back_FTPWrite.csv\", header = None)\n",
    "data_FTPWrite[\"Attack\"] = \"FTPWrite\"\n",
    "data_FTPWrite.columns = data_BufferOverFlow.columns"
   ]
  },
  {
   "cell_type": "code",
   "execution_count": 6,
   "id": "64fed33f",
   "metadata": {},
   "outputs": [
    {
     "data": {
      "text/html": [
       "<div>\n",
       "<style scoped>\n",
       "    .dataframe tbody tr th:only-of-type {\n",
       "        vertical-align: middle;\n",
       "    }\n",
       "\n",
       "    .dataframe tbody tr th {\n",
       "        vertical-align: top;\n",
       "    }\n",
       "\n",
       "    .dataframe thead th {\n",
       "        text-align: right;\n",
       "    }\n",
       "</style>\n",
       "<table border=\"1\" class=\"dataframe\">\n",
       "  <thead>\n",
       "    <tr style=\"text-align: right;\">\n",
       "      <th></th>\n",
       "      <th>duration</th>\n",
       "      <th>protocol_type</th>\n",
       "      <th>service</th>\n",
       "      <th>flag</th>\n",
       "      <th>src_bytes</th>\n",
       "      <th>dst_bytes</th>\n",
       "      <th>land</th>\n",
       "      <th>wrong_fragment</th>\n",
       "      <th>urgent</th>\n",
       "      <th>hot</th>\n",
       "      <th>...</th>\n",
       "      <th>dst_host_srv_count</th>\n",
       "      <th>dst_host_same_srv_rate</th>\n",
       "      <th>dst_host_diff_srv_rate</th>\n",
       "      <th>dst_host_same_src_port_rate</th>\n",
       "      <th>dst_host_srv_diff_host_rate</th>\n",
       "      <th>dst_host_serror_rate</th>\n",
       "      <th>dst_host_srv_serror_rate</th>\n",
       "      <th>dst_host_rerror_rate</th>\n",
       "      <th>dst_host_srv_rerror_rate</th>\n",
       "      <th>Attack</th>\n",
       "    </tr>\n",
       "  </thead>\n",
       "  <tbody>\n",
       "    <tr>\n",
       "      <th>0</th>\n",
       "      <td>0.0</td>\n",
       "      <td>0.00</td>\n",
       "      <td>0.00</td>\n",
       "      <td>0.0</td>\n",
       "      <td>0.54540</td>\n",
       "      <td>0.08314</td>\n",
       "      <td>0</td>\n",
       "      <td>0.0</td>\n",
       "      <td>0.0</td>\n",
       "      <td>0.2</td>\n",
       "      <td>...</td>\n",
       "      <td>0.001</td>\n",
       "      <td>0.100</td>\n",
       "      <td>0.000</td>\n",
       "      <td>0.100</td>\n",
       "      <td>0.0</td>\n",
       "      <td>0.0</td>\n",
       "      <td>0.0</td>\n",
       "      <td>0.0</td>\n",
       "      <td>0.0</td>\n",
       "      <td>Back</td>\n",
       "    </tr>\n",
       "    <tr>\n",
       "      <th>1</th>\n",
       "      <td>0.0</td>\n",
       "      <td>0.00</td>\n",
       "      <td>0.00</td>\n",
       "      <td>0.0</td>\n",
       "      <td>0.54540</td>\n",
       "      <td>0.08314</td>\n",
       "      <td>0</td>\n",
       "      <td>0.0</td>\n",
       "      <td>0.0</td>\n",
       "      <td>0.2</td>\n",
       "      <td>...</td>\n",
       "      <td>0.002</td>\n",
       "      <td>0.100</td>\n",
       "      <td>0.000</td>\n",
       "      <td>0.050</td>\n",
       "      <td>0.0</td>\n",
       "      <td>0.0</td>\n",
       "      <td>0.0</td>\n",
       "      <td>0.0</td>\n",
       "      <td>0.0</td>\n",
       "      <td>Back</td>\n",
       "    </tr>\n",
       "    <tr>\n",
       "      <th>2</th>\n",
       "      <td>0.0</td>\n",
       "      <td>0.00</td>\n",
       "      <td>0.00</td>\n",
       "      <td>0.0</td>\n",
       "      <td>0.54540</td>\n",
       "      <td>0.08314</td>\n",
       "      <td>0</td>\n",
       "      <td>0.0</td>\n",
       "      <td>0.0</td>\n",
       "      <td>0.2</td>\n",
       "      <td>...</td>\n",
       "      <td>0.003</td>\n",
       "      <td>0.100</td>\n",
       "      <td>0.000</td>\n",
       "      <td>0.033</td>\n",
       "      <td>0.0</td>\n",
       "      <td>0.0</td>\n",
       "      <td>0.0</td>\n",
       "      <td>0.0</td>\n",
       "      <td>0.0</td>\n",
       "      <td>Back</td>\n",
       "    </tr>\n",
       "    <tr>\n",
       "      <th>3</th>\n",
       "      <td>0.0</td>\n",
       "      <td>0.00</td>\n",
       "      <td>0.00</td>\n",
       "      <td>0.0</td>\n",
       "      <td>0.54540</td>\n",
       "      <td>0.08314</td>\n",
       "      <td>0</td>\n",
       "      <td>0.0</td>\n",
       "      <td>0.0</td>\n",
       "      <td>0.2</td>\n",
       "      <td>...</td>\n",
       "      <td>0.004</td>\n",
       "      <td>0.100</td>\n",
       "      <td>0.000</td>\n",
       "      <td>0.025</td>\n",
       "      <td>0.0</td>\n",
       "      <td>0.0</td>\n",
       "      <td>0.0</td>\n",
       "      <td>0.0</td>\n",
       "      <td>0.0</td>\n",
       "      <td>Back</td>\n",
       "    </tr>\n",
       "    <tr>\n",
       "      <th>4</th>\n",
       "      <td>0.0</td>\n",
       "      <td>0.00</td>\n",
       "      <td>0.00</td>\n",
       "      <td>0.0</td>\n",
       "      <td>0.54540</td>\n",
       "      <td>0.08314</td>\n",
       "      <td>0</td>\n",
       "      <td>0.0</td>\n",
       "      <td>0.0</td>\n",
       "      <td>0.2</td>\n",
       "      <td>...</td>\n",
       "      <td>0.005</td>\n",
       "      <td>0.100</td>\n",
       "      <td>0.000</td>\n",
       "      <td>0.020</td>\n",
       "      <td>0.0</td>\n",
       "      <td>0.0</td>\n",
       "      <td>0.0</td>\n",
       "      <td>0.0</td>\n",
       "      <td>0.0</td>\n",
       "      <td>Back</td>\n",
       "    </tr>\n",
       "    <tr>\n",
       "      <th>...</th>\n",
       "      <td>...</td>\n",
       "      <td>...</td>\n",
       "      <td>...</td>\n",
       "      <td>...</td>\n",
       "      <td>...</td>\n",
       "      <td>...</td>\n",
       "      <td>...</td>\n",
       "      <td>...</td>\n",
       "      <td>...</td>\n",
       "      <td>...</td>\n",
       "      <td>...</td>\n",
       "      <td>...</td>\n",
       "      <td>...</td>\n",
       "      <td>...</td>\n",
       "      <td>...</td>\n",
       "      <td>...</td>\n",
       "      <td>...</td>\n",
       "      <td>...</td>\n",
       "      <td>...</td>\n",
       "      <td>...</td>\n",
       "      <td>...</td>\n",
       "    </tr>\n",
       "    <tr>\n",
       "      <th>3002</th>\n",
       "      <td>0.0</td>\n",
       "      <td>0.02</td>\n",
       "      <td>0.09</td>\n",
       "      <td>0.0</td>\n",
       "      <td>0.01032</td>\n",
       "      <td>0.00000</td>\n",
       "      <td>0</td>\n",
       "      <td>0.0</td>\n",
       "      <td>0.0</td>\n",
       "      <td>0.0</td>\n",
       "      <td>...</td>\n",
       "      <td>0.251</td>\n",
       "      <td>0.098</td>\n",
       "      <td>0.001</td>\n",
       "      <td>0.098</td>\n",
       "      <td>0.0</td>\n",
       "      <td>0.0</td>\n",
       "      <td>0.0</td>\n",
       "      <td>0.0</td>\n",
       "      <td>0.0</td>\n",
       "      <td>Smurf</td>\n",
       "    </tr>\n",
       "    <tr>\n",
       "      <th>3003</th>\n",
       "      <td>0.0</td>\n",
       "      <td>0.02</td>\n",
       "      <td>0.09</td>\n",
       "      <td>0.0</td>\n",
       "      <td>0.01032</td>\n",
       "      <td>0.00000</td>\n",
       "      <td>0</td>\n",
       "      <td>0.0</td>\n",
       "      <td>0.0</td>\n",
       "      <td>0.0</td>\n",
       "      <td>...</td>\n",
       "      <td>0.252</td>\n",
       "      <td>0.099</td>\n",
       "      <td>0.001</td>\n",
       "      <td>0.099</td>\n",
       "      <td>0.0</td>\n",
       "      <td>0.0</td>\n",
       "      <td>0.0</td>\n",
       "      <td>0.0</td>\n",
       "      <td>0.0</td>\n",
       "      <td>Smurf</td>\n",
       "    </tr>\n",
       "    <tr>\n",
       "      <th>3004</th>\n",
       "      <td>0.0</td>\n",
       "      <td>0.02</td>\n",
       "      <td>0.09</td>\n",
       "      <td>0.0</td>\n",
       "      <td>0.01032</td>\n",
       "      <td>0.00000</td>\n",
       "      <td>0</td>\n",
       "      <td>0.0</td>\n",
       "      <td>0.0</td>\n",
       "      <td>0.0</td>\n",
       "      <td>...</td>\n",
       "      <td>0.253</td>\n",
       "      <td>0.099</td>\n",
       "      <td>0.001</td>\n",
       "      <td>0.099</td>\n",
       "      <td>0.0</td>\n",
       "      <td>0.0</td>\n",
       "      <td>0.0</td>\n",
       "      <td>0.0</td>\n",
       "      <td>0.0</td>\n",
       "      <td>Smurf</td>\n",
       "    </tr>\n",
       "    <tr>\n",
       "      <th>3005</th>\n",
       "      <td>0.0</td>\n",
       "      <td>0.02</td>\n",
       "      <td>0.09</td>\n",
       "      <td>0.0</td>\n",
       "      <td>0.01032</td>\n",
       "      <td>0.00000</td>\n",
       "      <td>0</td>\n",
       "      <td>0.0</td>\n",
       "      <td>0.0</td>\n",
       "      <td>0.0</td>\n",
       "      <td>...</td>\n",
       "      <td>0.254</td>\n",
       "      <td>0.100</td>\n",
       "      <td>0.001</td>\n",
       "      <td>0.100</td>\n",
       "      <td>0.0</td>\n",
       "      <td>0.0</td>\n",
       "      <td>0.0</td>\n",
       "      <td>0.0</td>\n",
       "      <td>0.0</td>\n",
       "      <td>Smurf</td>\n",
       "    </tr>\n",
       "    <tr>\n",
       "      <th>3006</th>\n",
       "      <td>0.0</td>\n",
       "      <td>0.01</td>\n",
       "      <td>0.12</td>\n",
       "      <td>0.0</td>\n",
       "      <td>0.00028</td>\n",
       "      <td>0.00000</td>\n",
       "      <td>0</td>\n",
       "      <td>0.3</td>\n",
       "      <td>0.0</td>\n",
       "      <td>0.0</td>\n",
       "      <td>...</td>\n",
       "      <td>0.001</td>\n",
       "      <td>0.000</td>\n",
       "      <td>0.001</td>\n",
       "      <td>0.000</td>\n",
       "      <td>0.0</td>\n",
       "      <td>0.0</td>\n",
       "      <td>0.0</td>\n",
       "      <td>0.0</td>\n",
       "      <td>0.0</td>\n",
       "      <td>Smurf</td>\n",
       "    </tr>\n",
       "  </tbody>\n",
       "</table>\n",
       "<p>817551 rows × 42 columns</p>\n",
       "</div>"
      ],
      "text/plain": [
       "      duration   protocol_type   service   flag   src_bytes   dst_bytes  \\\n",
       "0          0.0            0.00      0.00    0.0     0.54540     0.08314   \n",
       "1          0.0            0.00      0.00    0.0     0.54540     0.08314   \n",
       "2          0.0            0.00      0.00    0.0     0.54540     0.08314   \n",
       "3          0.0            0.00      0.00    0.0     0.54540     0.08314   \n",
       "4          0.0            0.00      0.00    0.0     0.54540     0.08314   \n",
       "...        ...             ...       ...    ...         ...         ...   \n",
       "3002       0.0            0.02      0.09    0.0     0.01032     0.00000   \n",
       "3003       0.0            0.02      0.09    0.0     0.01032     0.00000   \n",
       "3004       0.0            0.02      0.09    0.0     0.01032     0.00000   \n",
       "3005       0.0            0.02      0.09    0.0     0.01032     0.00000   \n",
       "3006       0.0            0.01      0.12    0.0     0.00028     0.00000   \n",
       "\n",
       "       land   wrong_fragment   urgent   hot  ...   dst_host_srv_count  \\\n",
       "0         0              0.0      0.0   0.2  ...                0.001   \n",
       "1         0              0.0      0.0   0.2  ...                0.002   \n",
       "2         0              0.0      0.0   0.2  ...                0.003   \n",
       "3         0              0.0      0.0   0.2  ...                0.004   \n",
       "4         0              0.0      0.0   0.2  ...                0.005   \n",
       "...     ...              ...      ...   ...  ...                  ...   \n",
       "3002      0              0.0      0.0   0.0  ...                0.251   \n",
       "3003      0              0.0      0.0   0.0  ...                0.252   \n",
       "3004      0              0.0      0.0   0.0  ...                0.253   \n",
       "3005      0              0.0      0.0   0.0  ...                0.254   \n",
       "3006      0              0.3      0.0   0.0  ...                0.001   \n",
       "\n",
       "       dst_host_same_srv_rate   dst_host_diff_srv_rate  \\\n",
       "0                       0.100                    0.000   \n",
       "1                       0.100                    0.000   \n",
       "2                       0.100                    0.000   \n",
       "3                       0.100                    0.000   \n",
       "4                       0.100                    0.000   \n",
       "...                       ...                      ...   \n",
       "3002                    0.098                    0.001   \n",
       "3003                    0.099                    0.001   \n",
       "3004                    0.099                    0.001   \n",
       "3005                    0.100                    0.001   \n",
       "3006                    0.000                    0.001   \n",
       "\n",
       "       dst_host_same_src_port_rate   dst_host_srv_diff_host_rate  \\\n",
       "0                            0.100                           0.0   \n",
       "1                            0.050                           0.0   \n",
       "2                            0.033                           0.0   \n",
       "3                            0.025                           0.0   \n",
       "4                            0.020                           0.0   \n",
       "...                            ...                           ...   \n",
       "3002                         0.098                           0.0   \n",
       "3003                         0.099                           0.0   \n",
       "3004                         0.099                           0.0   \n",
       "3005                         0.100                           0.0   \n",
       "3006                         0.000                           0.0   \n",
       "\n",
       "       dst_host_serror_rate   dst_host_srv_serror_rate   dst_host_rerror_rate  \\\n",
       "0                       0.0                        0.0                    0.0   \n",
       "1                       0.0                        0.0                    0.0   \n",
       "2                       0.0                        0.0                    0.0   \n",
       "3                       0.0                        0.0                    0.0   \n",
       "4                       0.0                        0.0                    0.0   \n",
       "...                     ...                        ...                    ...   \n",
       "3002                    0.0                        0.0                    0.0   \n",
       "3003                    0.0                        0.0                    0.0   \n",
       "3004                    0.0                        0.0                    0.0   \n",
       "3005                    0.0                        0.0                    0.0   \n",
       "3006                    0.0                        0.0                    0.0   \n",
       "\n",
       "       dst_host_srv_rerror_rate  Attack  \n",
       "0                           0.0    Back  \n",
       "1                           0.0    Back  \n",
       "2                           0.0    Back  \n",
       "3                           0.0    Back  \n",
       "4                           0.0    Back  \n",
       "...                         ...     ...  \n",
       "3002                        0.0   Smurf  \n",
       "3003                        0.0   Smurf  \n",
       "3004                        0.0   Smurf  \n",
       "3005                        0.0   Smurf  \n",
       "3006                        0.0   Smurf  \n",
       "\n",
       "[817551 rows x 42 columns]"
      ]
     },
     "execution_count": 6,
     "metadata": {},
     "output_type": "execute_result"
    }
   ],
   "source": [
    "data =pd.concat([data_Back, data_BufferOverFlow,data_FTPWrite, data_GuessPassword,data_Neptune, data_NMap, data_Normal, data_PortSweep, data_RootKit, data_Satan, data_Smurf])\n",
    "data\n",
    "\n",
    "#data.to_csv(\"data.csv\")"
   ]
  },
  {
   "cell_type": "code",
   "execution_count": 7,
   "id": "e0bca838",
   "metadata": {},
   "outputs": [
    {
     "data": {
      "text/plain": [
       "Normal            576710\n",
       "Neptune           227228\n",
       "Satan               5019\n",
       "Smurf               3007\n",
       "PortSweep           2964\n",
       "NMap                1554\n",
       "Back                 968\n",
       "GuessPassword         53\n",
       "BufferOverFlow        30\n",
       "RootKit               10\n",
       "FTPWrite               8\n",
       "Name: Attack, dtype: int64"
      ]
     },
     "execution_count": 7,
     "metadata": {},
     "output_type": "execute_result"
    }
   ],
   "source": [
    "data.Attack.value_counts()"
   ]
  },
  {
   "cell_type": "code",
   "execution_count": 8,
   "id": "b40b2ab6",
   "metadata": {},
   "outputs": [],
   "source": [
    "#Removing unwanted spaces from the column name\n",
    "\n",
    "data.columns = data.columns.str.replace(\" \", \"\")"
   ]
  },
  {
   "cell_type": "code",
   "execution_count": 9,
   "id": "1e9f45b4",
   "metadata": {},
   "outputs": [
    {
     "data": {
      "text/plain": [
       "Index(['duration', 'protocol_type', 'service', 'flag', 'src_bytes',\n",
       "       'dst_bytes', 'land', 'wrong_fragment', 'urgent', 'hot',\n",
       "       'num_failed_logins', 'logged_in', 'num_compromised', 'root_shell',\n",
       "       'su_attempted', 'num_root', 'num_file_creations', 'num_shells',\n",
       "       'num_access_files', 'num_outbound_cmds', 'is_host_login',\n",
       "       'is_guest_login', 'count', 'srv_count', 'serror_rate', 'srv_error_rate',\n",
       "       'rerror_rate', 'srv_rerror_rate', 'same_srv_rate', 'diff_srv_rate',\n",
       "       'srv_diff_host_rate', 'dst_host_count', 'dst_host_srv_count',\n",
       "       'dst_host_same_srv_rate', 'dst_host_diff_srv_rate',\n",
       "       'dst_host_same_src_port_rate', 'dst_host_srv_diff_host_rate',\n",
       "       'dst_host_serror_rate', 'dst_host_srv_serror_rate',\n",
       "       'dst_host_rerror_rate', 'dst_host_srv_rerror_rate', 'Attack'],\n",
       "      dtype='object')"
      ]
     },
     "execution_count": 9,
     "metadata": {},
     "output_type": "execute_result"
    }
   ],
   "source": [
    "data.columns"
   ]
  },
  {
   "cell_type": "code",
   "execution_count": 10,
   "id": "b7529b52",
   "metadata": {},
   "outputs": [
    {
     "data": {
      "text/plain": [
       "array([False, False, False, False, False, False, False, False, False,\n",
       "       False, False, False, False, False, False, False, False, False,\n",
       "       False, False, False, False, False, False, False, False, False,\n",
       "       False, False, False, False, False, False, False, False, False,\n",
       "       False, False, False, False, False, False])"
      ]
     },
     "execution_count": 10,
     "metadata": {},
     "output_type": "execute_result"
    }
   ],
   "source": [
    "# There are no null values\n",
    "\n",
    "data.columns.isnull()"
   ]
  },
  {
   "cell_type": "code",
   "execution_count": 11,
   "id": "77bfda44",
   "metadata": {},
   "outputs": [
    {
     "data": {
      "text/plain": [
       "0"
      ]
     },
     "execution_count": 11,
     "metadata": {},
     "output_type": "execute_result"
    }
   ],
   "source": [
    "# There are no duplicates\n",
    "\n",
    "data.duplicated().sum()"
   ]
  },
  {
   "cell_type": "code",
   "execution_count": 12,
   "id": "f961edd2",
   "metadata": {},
   "outputs": [
    {
     "name": "stdout",
     "output_type": "stream",
     "text": [
      "<class 'pandas.core.frame.DataFrame'>\n",
      "Int64Index: 817551 entries, 0 to 3006\n",
      "Data columns (total 42 columns):\n",
      " #   Column                       Non-Null Count   Dtype  \n",
      "---  ------                       --------------   -----  \n",
      " 0   duration                     817551 non-null  float64\n",
      " 1   protocol_type                817551 non-null  float64\n",
      " 2   service                      817551 non-null  float64\n",
      " 3   flag                         817551 non-null  float64\n",
      " 4   src_bytes                    817551 non-null  float64\n",
      " 5   dst_bytes                    817551 non-null  float64\n",
      " 6   land                         817551 non-null  int64  \n",
      " 7   wrong_fragment               817551 non-null  float64\n",
      " 8   urgent                       817551 non-null  float64\n",
      " 9   hot                          817551 non-null  float64\n",
      " 10  num_failed_logins            817551 non-null  float64\n",
      " 11  logged_in                    817551 non-null  float64\n",
      " 12  num_compromised              817551 non-null  float64\n",
      " 13  root_shell                   817551 non-null  float64\n",
      " 14  su_attempted                 817551 non-null  float64\n",
      " 15  num_root                     817551 non-null  float64\n",
      " 16  num_file_creations           817551 non-null  float64\n",
      " 17  num_shells                   817551 non-null  float64\n",
      " 18  num_access_files             817551 non-null  float64\n",
      " 19  num_outbound_cmds            817551 non-null  int64  \n",
      " 20  is_host_login                817551 non-null  float64\n",
      " 21  is_guest_login               817551 non-null  float64\n",
      " 22  count                        817551 non-null  float64\n",
      " 23  srv_count                    817551 non-null  float64\n",
      " 24  serror_rate                  817551 non-null  float64\n",
      " 25  srv_error_rate               817551 non-null  float64\n",
      " 26  rerror_rate                  817551 non-null  float64\n",
      " 27  srv_rerror_rate              817551 non-null  float64\n",
      " 28  same_srv_rate                817551 non-null  float64\n",
      " 29  diff_srv_rate                817551 non-null  float64\n",
      " 30  srv_diff_host_rate           817551 non-null  float64\n",
      " 31  dst_host_count               817551 non-null  float64\n",
      " 32  dst_host_srv_count           817551 non-null  float64\n",
      " 33  dst_host_same_srv_rate       817551 non-null  float64\n",
      " 34  dst_host_diff_srv_rate       817551 non-null  float64\n",
      " 35  dst_host_same_src_port_rate  817551 non-null  float64\n",
      " 36  dst_host_srv_diff_host_rate  817551 non-null  float64\n",
      " 37  dst_host_serror_rate         817551 non-null  float64\n",
      " 38  dst_host_srv_serror_rate     817551 non-null  float64\n",
      " 39  dst_host_rerror_rate         817551 non-null  float64\n",
      " 40  dst_host_srv_rerror_rate     817551 non-null  float64\n",
      " 41  Attack                       817551 non-null  object \n",
      "dtypes: float64(39), int64(2), object(1)\n",
      "memory usage: 268.2+ MB\n"
     ]
    }
   ],
   "source": [
    "data.info()"
   ]
  },
  {
   "cell_type": "code",
   "execution_count": 13,
   "id": "c472e7d1",
   "metadata": {},
   "outputs": [
    {
     "data": {
      "text/plain": [
       "0.00    570819\n",
       "0.07    202685\n",
       "0.05     38579\n",
       "0.06      2541\n",
       "0.08      2020\n",
       "0.02       331\n",
       "0.10       298\n",
       "0.09       122\n",
       "0.01        97\n",
       "0.04        40\n",
       "0.03        19\n",
       "Name: flag, dtype: int64"
      ]
     },
     "execution_count": 13,
     "metadata": {},
     "output_type": "execute_result"
    }
   ],
   "source": [
    "data.flag.value_counts()"
   ]
  },
  {
   "cell_type": "code",
   "execution_count": 14,
   "id": "40cbce25",
   "metadata": {},
   "outputs": [],
   "source": [
    "# Outlier Treatment\n",
    "\n",
    "def outlier_val(x):\n",
    "    if ((x.dtype == 'float') or (x.dtype == 'int')):\n",
    "        x = x.clip(lower = x.quantile(0.01), upper = x.quantile(0.99))\n",
    "    else:\n",
    "        x\n",
    "    \n",
    "    return x"
   ]
  },
  {
   "cell_type": "code",
   "execution_count": 15,
   "id": "ac9e40da",
   "metadata": {},
   "outputs": [],
   "source": [
    "data = data.apply(outlier_val)"
   ]
  },
  {
   "cell_type": "code",
   "execution_count": 16,
   "id": "5580fddf",
   "metadata": {},
   "outputs": [],
   "source": [
    "# Performing pandas profiling\n",
    "\n",
    "import pandas_profiling as pf"
   ]
  },
  {
   "cell_type": "code",
   "execution_count": 17,
   "id": "93d55b7f",
   "metadata": {
    "scrolled": true
   },
   "outputs": [
    {
     "data": {
      "text/html": [
       "<div>\n",
       "<style scoped>\n",
       "    .dataframe tbody tr th:only-of-type {\n",
       "        vertical-align: middle;\n",
       "    }\n",
       "\n",
       "    .dataframe tbody tr th {\n",
       "        vertical-align: top;\n",
       "    }\n",
       "\n",
       "    .dataframe thead th {\n",
       "        text-align: right;\n",
       "    }\n",
       "</style>\n",
       "<table border=\"1\" class=\"dataframe\">\n",
       "  <thead>\n",
       "    <tr style=\"text-align: right;\">\n",
       "      <th></th>\n",
       "      <th>duration</th>\n",
       "      <th>protocol_type</th>\n",
       "      <th>service</th>\n",
       "      <th>flag</th>\n",
       "      <th>src_bytes</th>\n",
       "      <th>dst_bytes</th>\n",
       "      <th>land</th>\n",
       "      <th>wrong_fragment</th>\n",
       "      <th>urgent</th>\n",
       "      <th>hot</th>\n",
       "      <th>...</th>\n",
       "      <th>dst_host_srv_count</th>\n",
       "      <th>dst_host_same_srv_rate</th>\n",
       "      <th>dst_host_diff_srv_rate</th>\n",
       "      <th>dst_host_same_src_port_rate</th>\n",
       "      <th>dst_host_srv_diff_host_rate</th>\n",
       "      <th>dst_host_serror_rate</th>\n",
       "      <th>dst_host_srv_serror_rate</th>\n",
       "      <th>dst_host_rerror_rate</th>\n",
       "      <th>dst_host_srv_rerror_rate</th>\n",
       "      <th>Attack</th>\n",
       "    </tr>\n",
       "  </thead>\n",
       "  <tbody>\n",
       "    <tr>\n",
       "      <th>count</th>\n",
       "      <td>817551.000000</td>\n",
       "      <td>817551.000000</td>\n",
       "      <td>817551.000000</td>\n",
       "      <td>817551.000000</td>\n",
       "      <td>817551.000000</td>\n",
       "      <td>817551.000000</td>\n",
       "      <td>817551.0</td>\n",
       "      <td>817551.0</td>\n",
       "      <td>817551.0</td>\n",
       "      <td>817551.0</td>\n",
       "      <td>...</td>\n",
       "      <td>817551.000000</td>\n",
       "      <td>817551.000000</td>\n",
       "      <td>817551.000000</td>\n",
       "      <td>817551.000000</td>\n",
       "      <td>817551.000000</td>\n",
       "      <td>817551.000000</td>\n",
       "      <td>817551.000000</td>\n",
       "      <td>817551.000000</td>\n",
       "      <td>817551.000000</td>\n",
       "      <td>817551</td>\n",
       "    </tr>\n",
       "    <tr>\n",
       "      <th>unique</th>\n",
       "      <td>NaN</td>\n",
       "      <td>NaN</td>\n",
       "      <td>NaN</td>\n",
       "      <td>NaN</td>\n",
       "      <td>NaN</td>\n",
       "      <td>NaN</td>\n",
       "      <td>NaN</td>\n",
       "      <td>NaN</td>\n",
       "      <td>NaN</td>\n",
       "      <td>NaN</td>\n",
       "      <td>...</td>\n",
       "      <td>NaN</td>\n",
       "      <td>NaN</td>\n",
       "      <td>NaN</td>\n",
       "      <td>NaN</td>\n",
       "      <td>NaN</td>\n",
       "      <td>NaN</td>\n",
       "      <td>NaN</td>\n",
       "      <td>NaN</td>\n",
       "      <td>NaN</td>\n",
       "      <td>11</td>\n",
       "    </tr>\n",
       "    <tr>\n",
       "      <th>top</th>\n",
       "      <td>NaN</td>\n",
       "      <td>NaN</td>\n",
       "      <td>NaN</td>\n",
       "      <td>NaN</td>\n",
       "      <td>NaN</td>\n",
       "      <td>NaN</td>\n",
       "      <td>NaN</td>\n",
       "      <td>NaN</td>\n",
       "      <td>NaN</td>\n",
       "      <td>NaN</td>\n",
       "      <td>...</td>\n",
       "      <td>NaN</td>\n",
       "      <td>NaN</td>\n",
       "      <td>NaN</td>\n",
       "      <td>NaN</td>\n",
       "      <td>NaN</td>\n",
       "      <td>NaN</td>\n",
       "      <td>NaN</td>\n",
       "      <td>NaN</td>\n",
       "      <td>NaN</td>\n",
       "      <td>Normal</td>\n",
       "    </tr>\n",
       "    <tr>\n",
       "      <th>freq</th>\n",
       "      <td>NaN</td>\n",
       "      <td>NaN</td>\n",
       "      <td>NaN</td>\n",
       "      <td>NaN</td>\n",
       "      <td>NaN</td>\n",
       "      <td>NaN</td>\n",
       "      <td>NaN</td>\n",
       "      <td>NaN</td>\n",
       "      <td>NaN</td>\n",
       "      <td>NaN</td>\n",
       "      <td>...</td>\n",
       "      <td>NaN</td>\n",
       "      <td>NaN</td>\n",
       "      <td>NaN</td>\n",
       "      <td>NaN</td>\n",
       "      <td>NaN</td>\n",
       "      <td>NaN</td>\n",
       "      <td>NaN</td>\n",
       "      <td>NaN</td>\n",
       "      <td>NaN</td>\n",
       "      <td>576710</td>\n",
       "    </tr>\n",
       "    <tr>\n",
       "      <th>mean</th>\n",
       "      <td>0.000026</td>\n",
       "      <td>0.000501</td>\n",
       "      <td>0.052489</td>\n",
       "      <td>0.020121</td>\n",
       "      <td>0.003335</td>\n",
       "      <td>0.022910</td>\n",
       "      <td>0.0</td>\n",
       "      <td>0.0</td>\n",
       "      <td>0.0</td>\n",
       "      <td>0.0</td>\n",
       "      <td>...</td>\n",
       "      <td>0.161651</td>\n",
       "      <td>0.066795</td>\n",
       "      <td>0.003018</td>\n",
       "      <td>0.006148</td>\n",
       "      <td>0.001582</td>\n",
       "      <td>0.024865</td>\n",
       "      <td>0.024852</td>\n",
       "      <td>0.005372</td>\n",
       "      <td>0.005279</td>\n",
       "      <td>NaN</td>\n",
       "    </tr>\n",
       "    <tr>\n",
       "      <th>std</th>\n",
       "      <td>0.000172</td>\n",
       "      <td>0.002182</td>\n",
       "      <td>0.094158</td>\n",
       "      <td>0.030887</td>\n",
       "      <td>0.008239</td>\n",
       "      <td>0.049703</td>\n",
       "      <td>0.0</td>\n",
       "      <td>0.0</td>\n",
       "      <td>0.0</td>\n",
       "      <td>0.0</td>\n",
       "      <td>...</td>\n",
       "      <td>0.111642</td>\n",
       "      <td>0.043421</td>\n",
       "      <td>0.005348</td>\n",
       "      <td>0.017460</td>\n",
       "      <td>0.002782</td>\n",
       "      <td>0.043062</td>\n",
       "      <td>0.043151</td>\n",
       "      <td>0.021920</td>\n",
       "      <td>0.022070</td>\n",
       "      <td>NaN</td>\n",
       "    </tr>\n",
       "    <tr>\n",
       "      <th>min</th>\n",
       "      <td>0.000000</td>\n",
       "      <td>0.000000</td>\n",
       "      <td>0.000000</td>\n",
       "      <td>0.000000</td>\n",
       "      <td>0.000000</td>\n",
       "      <td>0.000000</td>\n",
       "      <td>0.0</td>\n",
       "      <td>0.0</td>\n",
       "      <td>0.0</td>\n",
       "      <td>0.0</td>\n",
       "      <td>...</td>\n",
       "      <td>0.001000</td>\n",
       "      <td>0.000000</td>\n",
       "      <td>0.000000</td>\n",
       "      <td>0.000000</td>\n",
       "      <td>0.000000</td>\n",
       "      <td>0.000000</td>\n",
       "      <td>0.000000</td>\n",
       "      <td>0.000000</td>\n",
       "      <td>0.000000</td>\n",
       "      <td>NaN</td>\n",
       "    </tr>\n",
       "    <tr>\n",
       "      <th>25%</th>\n",
       "      <td>0.000000</td>\n",
       "      <td>0.000000</td>\n",
       "      <td>0.000000</td>\n",
       "      <td>0.000000</td>\n",
       "      <td>0.000000</td>\n",
       "      <td>0.000000</td>\n",
       "      <td>0.0</td>\n",
       "      <td>0.0</td>\n",
       "      <td>0.0</td>\n",
       "      <td>0.0</td>\n",
       "      <td>...</td>\n",
       "      <td>0.017000</td>\n",
       "      <td>0.007000</td>\n",
       "      <td>0.000000</td>\n",
       "      <td>0.000000</td>\n",
       "      <td>0.000000</td>\n",
       "      <td>0.000000</td>\n",
       "      <td>0.000000</td>\n",
       "      <td>0.000000</td>\n",
       "      <td>0.000000</td>\n",
       "      <td>NaN</td>\n",
       "    </tr>\n",
       "    <tr>\n",
       "      <th>50%</th>\n",
       "      <td>0.000000</td>\n",
       "      <td>0.000000</td>\n",
       "      <td>0.000000</td>\n",
       "      <td>0.000000</td>\n",
       "      <td>0.002170</td>\n",
       "      <td>0.003670</td>\n",
       "      <td>0.0</td>\n",
       "      <td>0.0</td>\n",
       "      <td>0.0</td>\n",
       "      <td>0.0</td>\n",
       "      <td>...</td>\n",
       "      <td>0.255000</td>\n",
       "      <td>0.100000</td>\n",
       "      <td>0.000000</td>\n",
       "      <td>0.000000</td>\n",
       "      <td>0.000000</td>\n",
       "      <td>0.000000</td>\n",
       "      <td>0.000000</td>\n",
       "      <td>0.000000</td>\n",
       "      <td>0.000000</td>\n",
       "      <td>NaN</td>\n",
       "    </tr>\n",
       "    <tr>\n",
       "      <th>75%</th>\n",
       "      <td>0.000000</td>\n",
       "      <td>0.000000</td>\n",
       "      <td>0.120000</td>\n",
       "      <td>0.070000</td>\n",
       "      <td>0.002990</td>\n",
       "      <td>0.019690</td>\n",
       "      <td>0.0</td>\n",
       "      <td>0.0</td>\n",
       "      <td>0.0</td>\n",
       "      <td>0.0</td>\n",
       "      <td>...</td>\n",
       "      <td>0.255000</td>\n",
       "      <td>0.100000</td>\n",
       "      <td>0.006000</td>\n",
       "      <td>0.003000</td>\n",
       "      <td>0.002000</td>\n",
       "      <td>0.014000</td>\n",
       "      <td>0.003000</td>\n",
       "      <td>0.000000</td>\n",
       "      <td>0.000000</td>\n",
       "      <td>NaN</td>\n",
       "    </tr>\n",
       "    <tr>\n",
       "      <th>max</th>\n",
       "      <td>0.001500</td>\n",
       "      <td>0.010000</td>\n",
       "      <td>0.530000</td>\n",
       "      <td>0.070000</td>\n",
       "      <td>0.070120</td>\n",
       "      <td>0.309345</td>\n",
       "      <td>0.0</td>\n",
       "      <td>0.0</td>\n",
       "      <td>0.0</td>\n",
       "      <td>0.0</td>\n",
       "      <td>...</td>\n",
       "      <td>0.255000</td>\n",
       "      <td>0.100000</td>\n",
       "      <td>0.040000</td>\n",
       "      <td>0.100000</td>\n",
       "      <td>0.018000</td>\n",
       "      <td>0.100000</td>\n",
       "      <td>0.100000</td>\n",
       "      <td>0.100000</td>\n",
       "      <td>0.100000</td>\n",
       "      <td>NaN</td>\n",
       "    </tr>\n",
       "  </tbody>\n",
       "</table>\n",
       "<p>11 rows × 42 columns</p>\n",
       "</div>"
      ],
      "text/plain": [
       "             duration  protocol_type        service           flag  \\\n",
       "count   817551.000000  817551.000000  817551.000000  817551.000000   \n",
       "unique            NaN            NaN            NaN            NaN   \n",
       "top               NaN            NaN            NaN            NaN   \n",
       "freq              NaN            NaN            NaN            NaN   \n",
       "mean         0.000026       0.000501       0.052489       0.020121   \n",
       "std          0.000172       0.002182       0.094158       0.030887   \n",
       "min          0.000000       0.000000       0.000000       0.000000   \n",
       "25%          0.000000       0.000000       0.000000       0.000000   \n",
       "50%          0.000000       0.000000       0.000000       0.000000   \n",
       "75%          0.000000       0.000000       0.120000       0.070000   \n",
       "max          0.001500       0.010000       0.530000       0.070000   \n",
       "\n",
       "            src_bytes      dst_bytes      land  wrong_fragment    urgent  \\\n",
       "count   817551.000000  817551.000000  817551.0        817551.0  817551.0   \n",
       "unique            NaN            NaN       NaN             NaN       NaN   \n",
       "top               NaN            NaN       NaN             NaN       NaN   \n",
       "freq              NaN            NaN       NaN             NaN       NaN   \n",
       "mean         0.003335       0.022910       0.0             0.0       0.0   \n",
       "std          0.008239       0.049703       0.0             0.0       0.0   \n",
       "min          0.000000       0.000000       0.0             0.0       0.0   \n",
       "25%          0.000000       0.000000       0.0             0.0       0.0   \n",
       "50%          0.002170       0.003670       0.0             0.0       0.0   \n",
       "75%          0.002990       0.019690       0.0             0.0       0.0   \n",
       "max          0.070120       0.309345       0.0             0.0       0.0   \n",
       "\n",
       "             hot  ...  dst_host_srv_count  dst_host_same_srv_rate  \\\n",
       "count   817551.0  ...       817551.000000           817551.000000   \n",
       "unique       NaN  ...                 NaN                     NaN   \n",
       "top          NaN  ...                 NaN                     NaN   \n",
       "freq         NaN  ...                 NaN                     NaN   \n",
       "mean         0.0  ...            0.161651                0.066795   \n",
       "std          0.0  ...            0.111642                0.043421   \n",
       "min          0.0  ...            0.001000                0.000000   \n",
       "25%          0.0  ...            0.017000                0.007000   \n",
       "50%          0.0  ...            0.255000                0.100000   \n",
       "75%          0.0  ...            0.255000                0.100000   \n",
       "max          0.0  ...            0.255000                0.100000   \n",
       "\n",
       "        dst_host_diff_srv_rate  dst_host_same_src_port_rate  \\\n",
       "count            817551.000000                817551.000000   \n",
       "unique                     NaN                          NaN   \n",
       "top                        NaN                          NaN   \n",
       "freq                       NaN                          NaN   \n",
       "mean                  0.003018                     0.006148   \n",
       "std                   0.005348                     0.017460   \n",
       "min                   0.000000                     0.000000   \n",
       "25%                   0.000000                     0.000000   \n",
       "50%                   0.000000                     0.000000   \n",
       "75%                   0.006000                     0.003000   \n",
       "max                   0.040000                     0.100000   \n",
       "\n",
       "        dst_host_srv_diff_host_rate  dst_host_serror_rate  \\\n",
       "count                 817551.000000         817551.000000   \n",
       "unique                          NaN                   NaN   \n",
       "top                             NaN                   NaN   \n",
       "freq                            NaN                   NaN   \n",
       "mean                       0.001582              0.024865   \n",
       "std                        0.002782              0.043062   \n",
       "min                        0.000000              0.000000   \n",
       "25%                        0.000000              0.000000   \n",
       "50%                        0.000000              0.000000   \n",
       "75%                        0.002000              0.014000   \n",
       "max                        0.018000              0.100000   \n",
       "\n",
       "        dst_host_srv_serror_rate  dst_host_rerror_rate  \\\n",
       "count              817551.000000         817551.000000   \n",
       "unique                       NaN                   NaN   \n",
       "top                          NaN                   NaN   \n",
       "freq                         NaN                   NaN   \n",
       "mean                    0.024852              0.005372   \n",
       "std                     0.043151              0.021920   \n",
       "min                     0.000000              0.000000   \n",
       "25%                     0.000000              0.000000   \n",
       "50%                     0.000000              0.000000   \n",
       "75%                     0.003000              0.000000   \n",
       "max                     0.100000              0.100000   \n",
       "\n",
       "        dst_host_srv_rerror_rate  Attack  \n",
       "count              817551.000000  817551  \n",
       "unique                       NaN      11  \n",
       "top                          NaN  Normal  \n",
       "freq                         NaN  576710  \n",
       "mean                    0.005279     NaN  \n",
       "std                     0.022070     NaN  \n",
       "min                     0.000000     NaN  \n",
       "25%                     0.000000     NaN  \n",
       "50%                     0.000000     NaN  \n",
       "75%                     0.000000     NaN  \n",
       "max                     0.100000     NaN  \n",
       "\n",
       "[11 rows x 42 columns]"
      ]
     },
     "execution_count": 17,
     "metadata": {},
     "output_type": "execute_result"
    }
   ],
   "source": [
    "data.describe(include = \"all\")"
   ]
  },
  {
   "cell_type": "code",
   "execution_count": 18,
   "id": "2cc82322",
   "metadata": {},
   "outputs": [
    {
     "data": {
      "text/plain": [
       "Normal            576710\n",
       "Neptune           227228\n",
       "Satan               5019\n",
       "Smurf               3007\n",
       "PortSweep           2964\n",
       "NMap                1554\n",
       "Back                 968\n",
       "GuessPassword         53\n",
       "BufferOverFlow        30\n",
       "RootKit               10\n",
       "FTPWrite               8\n",
       "Name: Attack, dtype: int64"
      ]
     },
     "execution_count": 18,
     "metadata": {},
     "output_type": "execute_result"
    }
   ],
   "source": [
    "data.Attack.value_counts()"
   ]
  },
  {
   "cell_type": "code",
   "execution_count": 19,
   "id": "51f78be8",
   "metadata": {},
   "outputs": [],
   "source": [
    "data_mul = data"
   ]
  },
  {
   "cell_type": "code",
   "execution_count": 20,
   "id": "2ec3e23d",
   "metadata": {},
   "outputs": [],
   "source": [
    "data_mul[\"Attack_mul\"] = np.where(data_mul.Attack == \"Normal\", 1, np.where(data_mul.Attack == \"Neptune\",2, np.where(data_mul.Attack == \"Satan\", 3, np.where(data_mul.Attack == \"Smurf\", 4, np.where(data_mul.Attack == \"PortSweep\", 5, np.where(data_mul.Attack == \"NMap\", 6, np.where(data_mul.Attack == \"Back\", 7, np.where(data_mul.Attack == \"GuessPassword\", 8, np.where(data_mul.Attack == \"BufferOverFlow\", 9, np.where(data_mul.Attack == \"RootKit\", 10, 11))))))))))"
   ]
  },
  {
   "cell_type": "code",
   "execution_count": 21,
   "id": "c713af6d",
   "metadata": {},
   "outputs": [],
   "source": [
    "data_mul[\"Attack_bin\"] = np.where(data_mul.Attack == \"Normal\",1,2)"
   ]
  },
  {
   "cell_type": "code",
   "execution_count": 22,
   "id": "7195f2e5",
   "metadata": {},
   "outputs": [
    {
     "data": {
      "text/plain": [
       "1    576710\n",
       "2    240841\n",
       "Name: Attack_bin, dtype: int64"
      ]
     },
     "execution_count": 22,
     "metadata": {},
     "output_type": "execute_result"
    }
   ],
   "source": [
    "data_bin = data[data.columns.difference([\"Attack\", \"Attack_mul\"])]\n",
    "data_bin.Attack_bin.value_counts()"
   ]
  },
  {
   "cell_type": "code",
   "execution_count": 23,
   "id": "32a4a112",
   "metadata": {},
   "outputs": [],
   "source": [
    "Y_bin = data_bin.Attack_bin\n",
    "X_bin = data_bin[data_bin.columns.difference([\"Attack_bin\"])]"
   ]
  },
  {
   "cell_type": "code",
   "execution_count": 24,
   "id": "be1bcee4",
   "metadata": {
    "scrolled": true
   },
   "outputs": [
    {
     "data": {
      "text/plain": [
       "1     576710\n",
       "2     227228\n",
       "3       5019\n",
       "4       3007\n",
       "5       2964\n",
       "6       1554\n",
       "7        968\n",
       "8         53\n",
       "9         30\n",
       "10        10\n",
       "11         8\n",
       "Name: Attack_mul, dtype: int64"
      ]
     },
     "execution_count": 24,
     "metadata": {},
     "output_type": "execute_result"
    }
   ],
   "source": [
    "data_mul = data[data.columns.difference([\"Attack\", \"Attack_bin\"])]\n",
    "data_mul.Attack_mul.value_counts()"
   ]
  },
  {
   "cell_type": "code",
   "execution_count": 25,
   "id": "d12f688c",
   "metadata": {},
   "outputs": [],
   "source": [
    "Y_mul = data_mul.Attack_mul\n",
    "X_mul = data_mul[data_mul.columns.difference([\"Attack_mul\"])]"
   ]
  },
  {
   "cell_type": "markdown",
   "id": "10d8d6eb",
   "metadata": {},
   "source": [
    "# BINOMIAL CLASSIFICATION"
   ]
  },
  {
   "cell_type": "markdown",
   "id": "fe4c6371",
   "metadata": {},
   "source": [
    "### The data is imbalanced. Convert data to balanced by using SMOTE technique"
   ]
  },
  {
   "cell_type": "code",
   "execution_count": 26,
   "id": "9e778bf2",
   "metadata": {
    "scrolled": false
   },
   "outputs": [
    {
     "name": "stdout",
     "output_type": "stream",
     "text": [
      "Requirement already satisfied: imblearn in c:\\users\\saach\\anaconda3\\lib\\site-packages (0.0)\n",
      "Requirement already satisfied: imbalanced-learn in c:\\users\\saach\\anaconda3\\lib\\site-packages (from imblearn) (0.8.0)\n",
      "Requirement already satisfied: joblib>=0.11 in c:\\users\\saach\\anaconda3\\lib\\site-packages (from imbalanced-learn->imblearn) (1.0.1)\n",
      "Requirement already satisfied: scikit-learn>=0.24 in c:\\users\\saach\\anaconda3\\lib\\site-packages (from imbalanced-learn->imblearn) (0.24.1)\n",
      "Requirement already satisfied: scipy>=0.19.1 in c:\\users\\saach\\anaconda3\\lib\\site-packages (from imbalanced-learn->imblearn) (1.6.2)\n",
      "Requirement already satisfied: numpy>=1.13.3 in c:\\users\\saach\\anaconda3\\lib\\site-packages (from imbalanced-learn->imblearn) (1.20.1)\n",
      "Requirement already satisfied: threadpoolctl>=2.0.0 in c:\\users\\saach\\anaconda3\\lib\\site-packages (from scikit-learn>=0.24->imbalanced-learn->imblearn) (2.1.0)\n"
     ]
    }
   ],
   "source": [
    "!pip install imblearn"
   ]
  },
  {
   "cell_type": "code",
   "execution_count": 27,
   "id": "5ddee12d",
   "metadata": {},
   "outputs": [],
   "source": [
    "import imblearn.over_sampling\n",
    "from imblearn.over_sampling import SMOTE"
   ]
  },
  {
   "cell_type": "code",
   "execution_count": 28,
   "id": "2fb89188",
   "metadata": {},
   "outputs": [],
   "source": [
    "sm = SMOTE(random_state = 42)"
   ]
  },
  {
   "cell_type": "code",
   "execution_count": 29,
   "id": "19fea2ee",
   "metadata": {},
   "outputs": [],
   "source": [
    "X_bin_res, Y_bin_res = sm.fit_resample(X_bin.values, Y_bin.values)"
   ]
  },
  {
   "cell_type": "code",
   "execution_count": 30,
   "id": "b27b6ffb",
   "metadata": {},
   "outputs": [
    {
     "data": {
      "text/plain": [
       "array([[0.001     , 0.        , 0.08314   , ..., 0.        , 0.        ,\n",
       "        0.        ],\n",
       "       [0.002     , 0.        , 0.08314   , ..., 0.        , 0.        ,\n",
       "        0.        ],\n",
       "       [0.003     , 0.        , 0.08314   , ..., 0.        , 0.        ,\n",
       "        0.        ],\n",
       "       ...,\n",
       "       [0.2285818 , 0.007     , 0.        , ..., 0.        , 0.        ,\n",
       "        0.        ],\n",
       "       [0.26025589, 0.00541863, 0.        , ..., 0.        , 0.        ,\n",
       "        0.        ],\n",
       "       [0.01287467, 0.02325067, 0.        , ..., 0.        , 0.        ,\n",
       "        0.        ]])"
      ]
     },
     "execution_count": 30,
     "metadata": {},
     "output_type": "execute_result"
    }
   ],
   "source": [
    "X_bin_res"
   ]
  },
  {
   "cell_type": "code",
   "execution_count": 31,
   "id": "af2e55fa",
   "metadata": {},
   "outputs": [
    {
     "data": {
      "text/plain": [
       "array([2, 2, 2, ..., 2, 2, 2])"
      ]
     },
     "execution_count": 31,
     "metadata": {},
     "output_type": "execute_result"
    }
   ],
   "source": [
    "Y_bin_res"
   ]
  },
  {
   "cell_type": "code",
   "execution_count": 32,
   "id": "5360fdec",
   "metadata": {},
   "outputs": [],
   "source": [
    "data_bin_bal = pd.concat([pd.Series(Y_bin_res), pd.DataFrame(X_bin_res),], axis = 1)\n",
    "data_bin_bal.columns = data_bin.columns"
   ]
  },
  {
   "cell_type": "code",
   "execution_count": 33,
   "id": "e151ec9d",
   "metadata": {},
   "outputs": [
    {
     "data": {
      "text/plain": [
       "1    576710\n",
       "2    576710\n",
       "Name: Attack_bin, dtype: int64"
      ]
     },
     "execution_count": 33,
     "metadata": {},
     "output_type": "execute_result"
    }
   ],
   "source": [
    "data_bin_bal.Attack_bin.value_counts()"
   ]
  },
  {
   "cell_type": "markdown",
   "id": "62d91322",
   "metadata": {},
   "source": [
    "# MULTINOMIAL CLASSIFICATION"
   ]
  },
  {
   "cell_type": "code",
   "execution_count": 34,
   "id": "1b410f61",
   "metadata": {},
   "outputs": [],
   "source": [
    "sm_mul = SMOTE(random_state = 42)"
   ]
  },
  {
   "cell_type": "code",
   "execution_count": 35,
   "id": "03f963b8",
   "metadata": {},
   "outputs": [],
   "source": [
    "X_mul_res, Y_mul_res = sm.fit_resample(X_mul.values, Y_mul.values)"
   ]
  },
  {
   "cell_type": "code",
   "execution_count": 36,
   "id": "cfa2495d",
   "metadata": {},
   "outputs": [],
   "source": [
    "data_mul_bal = pd.concat([pd.Series(Y_mul_res), pd.DataFrame(X_mul_res),], axis = 1)"
   ]
  },
  {
   "cell_type": "code",
   "execution_count": 37,
   "id": "73970a53",
   "metadata": {},
   "outputs": [],
   "source": [
    "data_mul_bal.columns = data_mul.columns"
   ]
  },
  {
   "cell_type": "code",
   "execution_count": 38,
   "id": "d1ed0db9",
   "metadata": {},
   "outputs": [
    {
     "data": {
      "text/plain": [
       "1     576710\n",
       "2     576710\n",
       "3     576710\n",
       "4     576710\n",
       "5     576710\n",
       "6     576710\n",
       "7     576710\n",
       "8     576710\n",
       "9     576710\n",
       "10    576710\n",
       "11    576710\n",
       "Name: Attack_mul, dtype: int64"
      ]
     },
     "execution_count": 38,
     "metadata": {},
     "output_type": "execute_result"
    }
   ],
   "source": [
    "data_mul_bal.Attack_mul.value_counts()"
   ]
  },
  {
   "cell_type": "markdown",
   "id": "8a986c6b",
   "metadata": {},
   "source": [
    "# DATA PREPERATION(STEP-2)"
   ]
  },
  {
   "cell_type": "code",
   "execution_count": 39,
   "id": "403e6e65",
   "metadata": {},
   "outputs": [],
   "source": [
    "import seaborn as sns"
   ]
  },
  {
   "cell_type": "code",
   "execution_count": 40,
   "id": "8c31a1c6",
   "metadata": {
    "scrolled": true
   },
   "outputs": [
    {
     "name": "stderr",
     "output_type": "stream",
     "text": [
      "C:\\Users\\saach\\Anaconda3\\lib\\site-packages\\seaborn\\distributions.py:2557: FutureWarning: `distplot` is a deprecated function and will be removed in a future version. Please adapt your code to use either `displot` (a figure-level function with similar flexibility) or `histplot` (an axes-level function for histograms).\n",
      "  warnings.warn(msg, FutureWarning)\n"
     ]
    },
    {
     "data": {
      "text/plain": [
       "<AxesSubplot:xlabel='Attack_bin', ylabel='Density'>"
      ]
     },
     "execution_count": 40,
     "metadata": {},
     "output_type": "execute_result"
    },
    {
     "data": {
      "image/png": "[encoded data removed]",
      "text/plain": [
       "<Figure size 432x288 with 1 Axes>"
      ]
     },
     "metadata": {
      "needs_background": "light"
     },
     "output_type": "display_data"
    }
   ],
   "source": [
    "sns.distplot(data_bin_bal.Attack_bin)"
   ]
  },
  {
   "cell_type": "code",
   "execution_count": 41,
   "id": "9c0dbe83",
   "metadata": {},
   "outputs": [
    {
     "name": "stderr",
     "output_type": "stream",
     "text": [
      "C:\\Users\\saach\\Anaconda3\\lib\\site-packages\\seaborn\\distributions.py:2557: FutureWarning: `distplot` is a deprecated function and will be removed in a future version. Please adapt your code to use either `displot` (a figure-level function with similar flexibility) or `histplot` (an axes-level function for histograms).\n",
      "  warnings.warn(msg, FutureWarning)\n"
     ]
    },
    {
     "data": {
      "text/plain": [
       "<AxesSubplot:xlabel='Attack_mul', ylabel='Density'>"
      ]
     },
     "execution_count": 41,
     "metadata": {},
     "output_type": "execute_result"
    },
    {
     "data": {
      "image/png": "[encoded data removed]",
      "text/plain": [
       "<Figure size 432x288 with 1 Axes>"
      ]
     },
     "metadata": {
      "needs_background": "light"
     },
     "output_type": "display_data"
    }
   ],
   "source": [
    "sns.distplot(data_mul_bal.Attack_mul)"
   ]
  },
  {
   "cell_type": "markdown",
   "id": "2b024047",
   "metadata": {},
   "source": [
    "# DATA PREPERATION(STEP-3)"
   ]
  },
  {
   "cell_type": "markdown",
   "id": "c234c55e",
   "metadata": {},
   "source": [
    "### FEATURE ENGINEERING"
   ]
  },
  {
   "cell_type": "code",
   "execution_count": 42,
   "id": "3411e4ba",
   "metadata": {},
   "outputs": [
    {
     "data": {
      "text/plain": [
       "Attack_bin                       int32\n",
       "count                          float64\n",
       "diff_srv_rate                  float64\n",
       "dst_bytes                      float64\n",
       "dst_host_count                 float64\n",
       "dst_host_diff_srv_rate         float64\n",
       "dst_host_rerror_rate           float64\n",
       "dst_host_same_src_port_rate    float64\n",
       "dst_host_same_srv_rate         float64\n",
       "dst_host_serror_rate           float64\n",
       "dst_host_srv_count             float64\n",
       "dst_host_srv_diff_host_rate    float64\n",
       "dst_host_srv_rerror_rate       float64\n",
       "dst_host_srv_serror_rate       float64\n",
       "duration                       float64\n",
       "flag                           float64\n",
       "hot                            float64\n",
       "is_guest_login                 float64\n",
       "is_host_login                  float64\n",
       "land                             int64\n",
       "logged_in                      float64\n",
       "num_access_files               float64\n",
       "num_compromised                float64\n",
       "num_failed_logins              float64\n",
       "num_file_creations             float64\n",
       "num_outbound_cmds                int64\n",
       "num_root                       float64\n",
       "num_shells                     float64\n",
       "protocol_type                  float64\n",
       "rerror_rate                    float64\n",
       "root_shell                     float64\n",
       "same_srv_rate                  float64\n",
       "serror_rate                    float64\n",
       "service                        float64\n",
       "src_bytes                      float64\n",
       "srv_count                      float64\n",
       "srv_diff_host_rate             float64\n",
       "srv_error_rate                 float64\n",
       "srv_rerror_rate                float64\n",
       "su_attempted                   float64\n",
       "urgent                         float64\n",
       "wrong_fragment                 float64\n",
       "dtype: object"
      ]
     },
     "execution_count": 42,
     "metadata": {},
     "output_type": "execute_result"
    }
   ],
   "source": [
    "data_bin.dtypes"
   ]
  },
  {
   "cell_type": "code",
   "execution_count": 43,
   "id": "ee465e1e",
   "metadata": {
    "scrolled": true
   },
   "outputs": [],
   "source": [
    "corr_y = data_bin.corrwith(data_bin.Attack_bin)\n",
    "\n",
    "corr_y.to_csv('corr_y_bin.csv')"
   ]
  },
  {
   "cell_type": "markdown",
   "id": "1b76f8c8",
   "metadata": {},
   "source": [
    "#### 3.feature selection based on importance"
   ]
  },
  {
   "cell_type": "code",
   "execution_count": 44,
   "id": "45f68ba4",
   "metadata": {},
   "outputs": [
    {
     "name": "stdout",
     "output_type": "stream",
     "text": [
      "Requirement already satisfied: sklearn in c:\\users\\saach\\anaconda3\\lib\\site-packages (0.0)\n",
      "Requirement already satisfied: scikit-learn in c:\\users\\saach\\anaconda3\\lib\\site-packages (from sklearn) (0.24.1)\n",
      "Requirement already satisfied: joblib>=0.11 in c:\\users\\saach\\anaconda3\\lib\\site-packages (from scikit-learn->sklearn) (1.0.1)\n",
      "Requirement already satisfied: numpy>=1.13.3 in c:\\users\\saach\\anaconda3\\lib\\site-packages (from scikit-learn->sklearn) (1.20.1)\n",
      "Requirement already satisfied: scipy>=0.19.1 in c:\\users\\saach\\anaconda3\\lib\\site-packages (from scikit-learn->sklearn) (1.6.2)\n",
      "Requirement already satisfied: threadpoolctl>=2.0.0 in c:\\users\\saach\\anaconda3\\lib\\site-packages (from scikit-learn->sklearn) (2.1.0)\n"
     ]
    }
   ],
   "source": [
    "!pip install sklearn"
   ]
  },
  {
   "cell_type": "code",
   "execution_count": 45,
   "id": "5c71d2b4",
   "metadata": {},
   "outputs": [],
   "source": [
    "from sklearn.feature_selection import f_regression, RFE, SelectKBest"
   ]
  },
  {
   "cell_type": "code",
   "execution_count": 46,
   "id": "84287330",
   "metadata": {},
   "outputs": [],
   "source": [
    "target = data_bin.Attack_bin\n",
    "\n",
    "features = data_bin[data_bin.columns.difference([\"Attack_bin\"])]"
   ]
  },
  {
   "cell_type": "code",
   "execution_count": null,
   "id": "1222eb80",
   "metadata": {},
   "outputs": [],
   "source": []
  },
  {
   "cell_type": "code",
   "execution_count": 47,
   "id": "a464fe62",
   "metadata": {},
   "outputs": [
    {
     "name": "stderr",
     "output_type": "stream",
     "text": [
      "C:\\Users\\saach\\Anaconda3\\lib\\site-packages\\sklearn\\feature_selection\\_univariate_selection.py:301: RuntimeWarning: invalid value encountered in true_divide\n",
      "  corr /= X_norms\n"
     ]
    }
   ],
   "source": [
    "F_value, P_value = f_regression(features, target)"
   ]
  },
  {
   "cell_type": "code",
   "execution_count": 48,
   "id": "5cd9063b",
   "metadata": {},
   "outputs": [],
   "source": [
    "f_reg_results = pd.concat([pd.Series(features.columns), pd.Series(F_value), pd.Series(P_value)], axis = 1)\n",
    "f_reg_results.columns = [\"Features\", \"F_value\", \"P_value\"]"
   ]
  },
  {
   "cell_type": "code",
   "execution_count": 49,
   "id": "deafc971",
   "metadata": {},
   "outputs": [
    {
     "data": {
      "text/html": [
       "<div>\n",
       "<style scoped>\n",
       "    .dataframe tbody tr th:only-of-type {\n",
       "        vertical-align: middle;\n",
       "    }\n",
       "\n",
       "    .dataframe tbody tr th {\n",
       "        vertical-align: top;\n",
       "    }\n",
       "\n",
       "    .dataframe thead th {\n",
       "        text-align: right;\n",
       "    }\n",
       "</style>\n",
       "<table border=\"1\" class=\"dataframe\">\n",
       "  <thead>\n",
       "    <tr style=\"text-align: right;\">\n",
       "      <th></th>\n",
       "      <th>Features</th>\n",
       "      <th>F_value</th>\n",
       "      <th>P_value</th>\n",
       "    </tr>\n",
       "  </thead>\n",
       "  <tbody>\n",
       "    <tr>\n",
       "      <th>0</th>\n",
       "      <td>count</td>\n",
       "      <td>2.191356e+06</td>\n",
       "      <td>0.000000e+00</td>\n",
       "    </tr>\n",
       "    <tr>\n",
       "      <th>1</th>\n",
       "      <td>diff_srv_rate</td>\n",
       "      <td>2.468545e+05</td>\n",
       "      <td>0.000000e+00</td>\n",
       "    </tr>\n",
       "    <tr>\n",
       "      <th>2</th>\n",
       "      <td>dst_bytes</td>\n",
       "      <td>7.701828e+04</td>\n",
       "      <td>0.000000e+00</td>\n",
       "    </tr>\n",
       "    <tr>\n",
       "      <th>3</th>\n",
       "      <td>dst_host_count</td>\n",
       "      <td>3.312568e+05</td>\n",
       "      <td>0.000000e+00</td>\n",
       "    </tr>\n",
       "    <tr>\n",
       "      <th>4</th>\n",
       "      <td>dst_host_diff_srv_rate</td>\n",
       "      <td>3.777321e+05</td>\n",
       "      <td>0.000000e+00</td>\n",
       "    </tr>\n",
       "    <tr>\n",
       "      <th>5</th>\n",
       "      <td>dst_host_rerror_rate</td>\n",
       "      <td>4.095603e+04</td>\n",
       "      <td>0.000000e+00</td>\n",
       "    </tr>\n",
       "    <tr>\n",
       "      <th>6</th>\n",
       "      <td>dst_host_same_src_port_rate</td>\n",
       "      <td>1.262660e+04</td>\n",
       "      <td>0.000000e+00</td>\n",
       "    </tr>\n",
       "    <tr>\n",
       "      <th>7</th>\n",
       "      <td>dst_host_same_srv_rate</td>\n",
       "      <td>3.607967e+06</td>\n",
       "      <td>0.000000e+00</td>\n",
       "    </tr>\n",
       "    <tr>\n",
       "      <th>8</th>\n",
       "      <td>dst_host_serror_rate</td>\n",
       "      <td>3.024953e+06</td>\n",
       "      <td>0.000000e+00</td>\n",
       "    </tr>\n",
       "    <tr>\n",
       "      <th>9</th>\n",
       "      <td>dst_host_srv_count</td>\n",
       "      <td>2.205698e+06</td>\n",
       "      <td>0.000000e+00</td>\n",
       "    </tr>\n",
       "    <tr>\n",
       "      <th>10</th>\n",
       "      <td>dst_host_srv_diff_host_rate</td>\n",
       "      <td>1.123117e+05</td>\n",
       "      <td>0.000000e+00</td>\n",
       "    </tr>\n",
       "    <tr>\n",
       "      <th>11</th>\n",
       "      <td>dst_host_srv_rerror_rate</td>\n",
       "      <td>4.187030e+04</td>\n",
       "      <td>0.000000e+00</td>\n",
       "    </tr>\n",
       "    <tr>\n",
       "      <th>12</th>\n",
       "      <td>dst_host_srv_serror_rate</td>\n",
       "      <td>3.064791e+06</td>\n",
       "      <td>0.000000e+00</td>\n",
       "    </tr>\n",
       "    <tr>\n",
       "      <th>13</th>\n",
       "      <td>duration</td>\n",
       "      <td>5.590965e+03</td>\n",
       "      <td>0.000000e+00</td>\n",
       "    </tr>\n",
       "    <tr>\n",
       "      <th>14</th>\n",
       "      <td>flag</td>\n",
       "      <td>7.931686e+06</td>\n",
       "      <td>0.000000e+00</td>\n",
       "    </tr>\n",
       "    <tr>\n",
       "      <th>15</th>\n",
       "      <td>hot</td>\n",
       "      <td>NaN</td>\n",
       "      <td>NaN</td>\n",
       "    </tr>\n",
       "    <tr>\n",
       "      <th>16</th>\n",
       "      <td>is_guest_login</td>\n",
       "      <td>NaN</td>\n",
       "      <td>NaN</td>\n",
       "    </tr>\n",
       "    <tr>\n",
       "      <th>17</th>\n",
       "      <td>is_host_login</td>\n",
       "      <td>NaN</td>\n",
       "      <td>NaN</td>\n",
       "    </tr>\n",
       "    <tr>\n",
       "      <th>18</th>\n",
       "      <td>land</td>\n",
       "      <td>NaN</td>\n",
       "      <td>NaN</td>\n",
       "    </tr>\n",
       "    <tr>\n",
       "      <th>19</th>\n",
       "      <td>logged_in</td>\n",
       "      <td>2.168207e+06</td>\n",
       "      <td>0.000000e+00</td>\n",
       "    </tr>\n",
       "    <tr>\n",
       "      <th>20</th>\n",
       "      <td>num_access_files</td>\n",
       "      <td>NaN</td>\n",
       "      <td>NaN</td>\n",
       "    </tr>\n",
       "    <tr>\n",
       "      <th>21</th>\n",
       "      <td>num_compromised</td>\n",
       "      <td>NaN</td>\n",
       "      <td>NaN</td>\n",
       "    </tr>\n",
       "    <tr>\n",
       "      <th>22</th>\n",
       "      <td>num_failed_logins</td>\n",
       "      <td>NaN</td>\n",
       "      <td>NaN</td>\n",
       "    </tr>\n",
       "    <tr>\n",
       "      <th>23</th>\n",
       "      <td>num_file_creations</td>\n",
       "      <td>NaN</td>\n",
       "      <td>NaN</td>\n",
       "    </tr>\n",
       "    <tr>\n",
       "      <th>24</th>\n",
       "      <td>num_outbound_cmds</td>\n",
       "      <td>NaN</td>\n",
       "      <td>NaN</td>\n",
       "    </tr>\n",
       "    <tr>\n",
       "      <th>25</th>\n",
       "      <td>num_root</td>\n",
       "      <td>NaN</td>\n",
       "      <td>NaN</td>\n",
       "    </tr>\n",
       "    <tr>\n",
       "      <th>26</th>\n",
       "      <td>num_shells</td>\n",
       "      <td>NaN</td>\n",
       "      <td>NaN</td>\n",
       "    </tr>\n",
       "    <tr>\n",
       "      <th>27</th>\n",
       "      <td>protocol_type</td>\n",
       "      <td>4.567317e+03</td>\n",
       "      <td>0.000000e+00</td>\n",
       "    </tr>\n",
       "    <tr>\n",
       "      <th>28</th>\n",
       "      <td>rerror_rate</td>\n",
       "      <td>4.267316e+04</td>\n",
       "      <td>0.000000e+00</td>\n",
       "    </tr>\n",
       "    <tr>\n",
       "      <th>29</th>\n",
       "      <td>root_shell</td>\n",
       "      <td>NaN</td>\n",
       "      <td>NaN</td>\n",
       "    </tr>\n",
       "    <tr>\n",
       "      <th>30</th>\n",
       "      <td>same_srv_rate</td>\n",
       "      <td>1.139256e+07</td>\n",
       "      <td>0.000000e+00</td>\n",
       "    </tr>\n",
       "    <tr>\n",
       "      <th>31</th>\n",
       "      <td>serror_rate</td>\n",
       "      <td>3.010883e+06</td>\n",
       "      <td>0.000000e+00</td>\n",
       "    </tr>\n",
       "    <tr>\n",
       "      <th>32</th>\n",
       "      <td>service</td>\n",
       "      <td>8.943862e+05</td>\n",
       "      <td>0.000000e+00</td>\n",
       "    </tr>\n",
       "    <tr>\n",
       "      <th>33</th>\n",
       "      <td>src_bytes</td>\n",
       "      <td>4.565578e+04</td>\n",
       "      <td>0.000000e+00</td>\n",
       "    </tr>\n",
       "    <tr>\n",
       "      <th>34</th>\n",
       "      <td>srv_count</td>\n",
       "      <td>6.886470e+02</td>\n",
       "      <td>1.017751e-151</td>\n",
       "    </tr>\n",
       "    <tr>\n",
       "      <th>35</th>\n",
       "      <td>srv_diff_host_rate</td>\n",
       "      <td>6.048125e+04</td>\n",
       "      <td>0.000000e+00</td>\n",
       "    </tr>\n",
       "    <tr>\n",
       "      <th>36</th>\n",
       "      <td>srv_error_rate</td>\n",
       "      <td>3.029714e+06</td>\n",
       "      <td>0.000000e+00</td>\n",
       "    </tr>\n",
       "    <tr>\n",
       "      <th>37</th>\n",
       "      <td>srv_rerror_rate</td>\n",
       "      <td>4.143187e+04</td>\n",
       "      <td>0.000000e+00</td>\n",
       "    </tr>\n",
       "    <tr>\n",
       "      <th>38</th>\n",
       "      <td>su_attempted</td>\n",
       "      <td>NaN</td>\n",
       "      <td>NaN</td>\n",
       "    </tr>\n",
       "    <tr>\n",
       "      <th>39</th>\n",
       "      <td>urgent</td>\n",
       "      <td>NaN</td>\n",
       "      <td>NaN</td>\n",
       "    </tr>\n",
       "    <tr>\n",
       "      <th>40</th>\n",
       "      <td>wrong_fragment</td>\n",
       "      <td>NaN</td>\n",
       "      <td>NaN</td>\n",
       "    </tr>\n",
       "  </tbody>\n",
       "</table>\n",
       "</div>"
      ],
      "text/plain": [
       "                       Features       F_value        P_value\n",
       "0                         count  2.191356e+06   0.000000e+00\n",
       "1                 diff_srv_rate  2.468545e+05   0.000000e+00\n",
       "2                     dst_bytes  7.701828e+04   0.000000e+00\n",
       "3                dst_host_count  3.312568e+05   0.000000e+00\n",
       "4        dst_host_diff_srv_rate  3.777321e+05   0.000000e+00\n",
       "5          dst_host_rerror_rate  4.095603e+04   0.000000e+00\n",
       "6   dst_host_same_src_port_rate  1.262660e+04   0.000000e+00\n",
       "7        dst_host_same_srv_rate  3.607967e+06   0.000000e+00\n",
       "8          dst_host_serror_rate  3.024953e+06   0.000000e+00\n",
       "9            dst_host_srv_count  2.205698e+06   0.000000e+00\n",
       "10  dst_host_srv_diff_host_rate  1.123117e+05   0.000000e+00\n",
       "11     dst_host_srv_rerror_rate  4.187030e+04   0.000000e+00\n",
       "12     dst_host_srv_serror_rate  3.064791e+06   0.000000e+00\n",
       "13                     duration  5.590965e+03   0.000000e+00\n",
       "14                         flag  7.931686e+06   0.000000e+00\n",
       "15                          hot           NaN            NaN\n",
       "16               is_guest_login           NaN            NaN\n",
       "17                is_host_login           NaN            NaN\n",
       "18                         land           NaN            NaN\n",
       "19                    logged_in  2.168207e+06   0.000000e+00\n",
       "20             num_access_files           NaN            NaN\n",
       "21              num_compromised           NaN            NaN\n",
       "22            num_failed_logins           NaN            NaN\n",
       "23           num_file_creations           NaN            NaN\n",
       "24            num_outbound_cmds           NaN            NaN\n",
       "25                     num_root           NaN            NaN\n",
       "26                   num_shells           NaN            NaN\n",
       "27                protocol_type  4.567317e+03   0.000000e+00\n",
       "28                  rerror_rate  4.267316e+04   0.000000e+00\n",
       "29                   root_shell           NaN            NaN\n",
       "30                same_srv_rate  1.139256e+07   0.000000e+00\n",
       "31                  serror_rate  3.010883e+06   0.000000e+00\n",
       "32                      service  8.943862e+05   0.000000e+00\n",
       "33                    src_bytes  4.565578e+04   0.000000e+00\n",
       "34                    srv_count  6.886470e+02  1.017751e-151\n",
       "35           srv_diff_host_rate  6.048125e+04   0.000000e+00\n",
       "36               srv_error_rate  3.029714e+06   0.000000e+00\n",
       "37              srv_rerror_rate  4.143187e+04   0.000000e+00\n",
       "38                 su_attempted           NaN            NaN\n",
       "39                       urgent           NaN            NaN\n",
       "40               wrong_fragment           NaN            NaN"
      ]
     },
     "execution_count": 49,
     "metadata": {},
     "output_type": "execute_result"
    }
   ],
   "source": [
    "f_reg_results"
   ]
  },
  {
   "cell_type": "code",
   "execution_count": 50,
   "id": "b82616e7",
   "metadata": {},
   "outputs": [],
   "source": [
    "from sklearn.ensemble import RandomForestClassifier"
   ]
  },
  {
   "cell_type": "code",
   "execution_count": 51,
   "id": "e244fbe0",
   "metadata": {},
   "outputs": [],
   "source": [
    "Y = data_bin.Attack_bin\n",
    "X = data_bin[data_bin.columns.difference([\"Attack_bin\"])]"
   ]
  },
  {
   "cell_type": "code",
   "execution_count": 52,
   "id": "dca5b366",
   "metadata": {},
   "outputs": [
    {
     "name": "stdout",
     "output_type": "stream",
     "text": [
      "Fitting estimator with 41 features.\n",
      "Fitting estimator with 40 features.\n",
      "Fitting estimator with 39 features.\n",
      "Fitting estimator with 38 features.\n",
      "Fitting estimator with 37 features.\n",
      "Fitting estimator with 36 features.\n",
      "Fitting estimator with 35 features.\n",
      "Fitting estimator with 34 features.\n",
      "Fitting estimator with 33 features.\n",
      "Fitting estimator with 32 features.\n",
      "Fitting estimator with 31 features.\n",
      "Fitting estimator with 30 features.\n",
      "Fitting estimator with 29 features.\n",
      "Fitting estimator with 28 features.\n",
      "Fitting estimator with 27 features.\n",
      "Fitting estimator with 26 features.\n",
      "Fitting estimator with 25 features.\n",
      "Fitting estimator with 24 features.\n",
      "Fitting estimator with 23 features.\n",
      "Fitting estimator with 22 features.\n",
      "Fitting estimator with 21 features.\n",
      "Fitting estimator with 20 features.\n",
      "Fitting estimator with 19 features.\n",
      "Fitting estimator with 18 features.\n",
      "Fitting estimator with 17 features.\n",
      "Fitting estimator with 16 features.\n",
      "Fitting estimator with 15 features.\n",
      "Fitting estimator with 14 features.\n",
      "Fitting estimator with 13 features.\n",
      "Fitting estimator with 12 features.\n",
      "Fitting estimator with 11 features.\n"
     ]
    }
   ],
   "source": [
    "RFE_model = RFE(estimator = RandomForestClassifier(), n_features_to_select= 10, verbose=True).fit(X,Y)"
   ]
  },
  {
   "cell_type": "code",
   "execution_count": 53,
   "id": "7255a0ea",
   "metadata": {},
   "outputs": [
    {
     "data": {
      "text/plain": [
       "Index(['count', 'diff_srv_rate', 'dst_bytes', 'dst_host_count',\n",
       "       'dst_host_diff_srv_rate', 'dst_host_rerror_rate',\n",
       "       'dst_host_same_src_port_rate', 'dst_host_same_srv_rate',\n",
       "       'dst_host_serror_rate', 'dst_host_srv_count',\n",
       "       'dst_host_srv_diff_host_rate', 'dst_host_srv_rerror_rate',\n",
       "       'dst_host_srv_serror_rate', 'duration', 'flag', 'hot', 'is_guest_login',\n",
       "       'is_host_login', 'land', 'logged_in', 'num_access_files',\n",
       "       'num_compromised', 'num_failed_logins', 'num_file_creations',\n",
       "       'num_outbound_cmds', 'num_root', 'num_shells', 'protocol_type',\n",
       "       'rerror_rate', 'root_shell', 'same_srv_rate', 'serror_rate', 'service',\n",
       "       'src_bytes', 'srv_count', 'srv_diff_host_rate', 'srv_error_rate',\n",
       "       'srv_rerror_rate', 'su_attempted', 'urgent', 'wrong_fragment'],\n",
       "      dtype='object')"
      ]
     },
     "execution_count": 53,
     "metadata": {},
     "output_type": "execute_result"
    }
   ],
   "source": [
    "X.columns"
   ]
  },
  {
   "cell_type": "code",
   "execution_count": 54,
   "id": "e22275fe",
   "metadata": {},
   "outputs": [],
   "source": [
    "X_new = X[X.columns[RFE_model.get_support()]]"
   ]
  },
  {
   "cell_type": "code",
   "execution_count": 55,
   "id": "1122b2e8",
   "metadata": {},
   "outputs": [
    {
     "data": {
      "text/plain": [
       "0                     count\n",
       "1             diff_srv_rate\n",
       "2                 dst_bytes\n",
       "3            dst_host_count\n",
       "4    dst_host_same_srv_rate\n",
       "5        dst_host_srv_count\n",
       "6                      flag\n",
       "7             same_srv_rate\n",
       "8                   service\n",
       "9                 src_bytes\n",
       "dtype: object"
      ]
     },
     "execution_count": 55,
     "metadata": {},
     "output_type": "execute_result"
    }
   ],
   "source": [
    "# Top 10 models identified using RFE technique\n",
    "\n",
    "pd.Series(X_new.columns)"
   ]
  },
  {
   "cell_type": "code",
   "execution_count": 56,
   "id": "f6f70f73",
   "metadata": {},
   "outputs": [],
   "source": [
    "rfe_ranking = pd.concat([pd.Series(features.columns), pd.Series(RFE_model.ranking_)], axis =1)\n",
    "rfe_ranking.columns = [\"Feature\", \"Rank\"]"
   ]
  },
  {
   "cell_type": "code",
   "execution_count": 57,
   "id": "633ca863",
   "metadata": {},
   "outputs": [
    {
     "data": {
      "text/html": [
       "<div>\n",
       "<style scoped>\n",
       "    .dataframe tbody tr th:only-of-type {\n",
       "        vertical-align: middle;\n",
       "    }\n",
       "\n",
       "    .dataframe tbody tr th {\n",
       "        vertical-align: top;\n",
       "    }\n",
       "\n",
       "    .dataframe thead th {\n",
       "        text-align: right;\n",
       "    }\n",
       "</style>\n",
       "<table border=\"1\" class=\"dataframe\">\n",
       "  <thead>\n",
       "    <tr style=\"text-align: right;\">\n",
       "      <th></th>\n",
       "      <th>Feature</th>\n",
       "      <th>Rank</th>\n",
       "    </tr>\n",
       "  </thead>\n",
       "  <tbody>\n",
       "    <tr>\n",
       "      <th>0</th>\n",
       "      <td>count</td>\n",
       "      <td>1</td>\n",
       "    </tr>\n",
       "    <tr>\n",
       "      <th>1</th>\n",
       "      <td>diff_srv_rate</td>\n",
       "      <td>1</td>\n",
       "    </tr>\n",
       "    <tr>\n",
       "      <th>2</th>\n",
       "      <td>dst_bytes</td>\n",
       "      <td>1</td>\n",
       "    </tr>\n",
       "    <tr>\n",
       "      <th>3</th>\n",
       "      <td>dst_host_count</td>\n",
       "      <td>1</td>\n",
       "    </tr>\n",
       "    <tr>\n",
       "      <th>32</th>\n",
       "      <td>service</td>\n",
       "      <td>1</td>\n",
       "    </tr>\n",
       "    <tr>\n",
       "      <th>7</th>\n",
       "      <td>dst_host_same_srv_rate</td>\n",
       "      <td>1</td>\n",
       "    </tr>\n",
       "    <tr>\n",
       "      <th>9</th>\n",
       "      <td>dst_host_srv_count</td>\n",
       "      <td>1</td>\n",
       "    </tr>\n",
       "    <tr>\n",
       "      <th>30</th>\n",
       "      <td>same_srv_rate</td>\n",
       "      <td>1</td>\n",
       "    </tr>\n",
       "    <tr>\n",
       "      <th>33</th>\n",
       "      <td>src_bytes</td>\n",
       "      <td>1</td>\n",
       "    </tr>\n",
       "    <tr>\n",
       "      <th>14</th>\n",
       "      <td>flag</td>\n",
       "      <td>1</td>\n",
       "    </tr>\n",
       "    <tr>\n",
       "      <th>4</th>\n",
       "      <td>dst_host_diff_srv_rate</td>\n",
       "      <td>2</td>\n",
       "    </tr>\n",
       "    <tr>\n",
       "      <th>12</th>\n",
       "      <td>dst_host_srv_serror_rate</td>\n",
       "      <td>3</td>\n",
       "    </tr>\n",
       "    <tr>\n",
       "      <th>34</th>\n",
       "      <td>srv_count</td>\n",
       "      <td>4</td>\n",
       "    </tr>\n",
       "    <tr>\n",
       "      <th>8</th>\n",
       "      <td>dst_host_serror_rate</td>\n",
       "      <td>5</td>\n",
       "    </tr>\n",
       "    <tr>\n",
       "      <th>6</th>\n",
       "      <td>dst_host_same_src_port_rate</td>\n",
       "      <td>6</td>\n",
       "    </tr>\n",
       "    <tr>\n",
       "      <th>36</th>\n",
       "      <td>srv_error_rate</td>\n",
       "      <td>7</td>\n",
       "    </tr>\n",
       "    <tr>\n",
       "      <th>10</th>\n",
       "      <td>dst_host_srv_diff_host_rate</td>\n",
       "      <td>8</td>\n",
       "    </tr>\n",
       "    <tr>\n",
       "      <th>11</th>\n",
       "      <td>dst_host_srv_rerror_rate</td>\n",
       "      <td>9</td>\n",
       "    </tr>\n",
       "    <tr>\n",
       "      <th>31</th>\n",
       "      <td>serror_rate</td>\n",
       "      <td>10</td>\n",
       "    </tr>\n",
       "    <tr>\n",
       "      <th>27</th>\n",
       "      <td>protocol_type</td>\n",
       "      <td>11</td>\n",
       "    </tr>\n",
       "    <tr>\n",
       "      <th>5</th>\n",
       "      <td>dst_host_rerror_rate</td>\n",
       "      <td>12</td>\n",
       "    </tr>\n",
       "    <tr>\n",
       "      <th>19</th>\n",
       "      <td>logged_in</td>\n",
       "      <td>13</td>\n",
       "    </tr>\n",
       "    <tr>\n",
       "      <th>35</th>\n",
       "      <td>srv_diff_host_rate</td>\n",
       "      <td>14</td>\n",
       "    </tr>\n",
       "    <tr>\n",
       "      <th>28</th>\n",
       "      <td>rerror_rate</td>\n",
       "      <td>15</td>\n",
       "    </tr>\n",
       "    <tr>\n",
       "      <th>37</th>\n",
       "      <td>srv_rerror_rate</td>\n",
       "      <td>16</td>\n",
       "    </tr>\n",
       "    <tr>\n",
       "      <th>13</th>\n",
       "      <td>duration</td>\n",
       "      <td>17</td>\n",
       "    </tr>\n",
       "    <tr>\n",
       "      <th>22</th>\n",
       "      <td>num_failed_logins</td>\n",
       "      <td>18</td>\n",
       "    </tr>\n",
       "    <tr>\n",
       "      <th>23</th>\n",
       "      <td>num_file_creations</td>\n",
       "      <td>19</td>\n",
       "    </tr>\n",
       "    <tr>\n",
       "      <th>24</th>\n",
       "      <td>num_outbound_cmds</td>\n",
       "      <td>20</td>\n",
       "    </tr>\n",
       "    <tr>\n",
       "      <th>26</th>\n",
       "      <td>num_shells</td>\n",
       "      <td>21</td>\n",
       "    </tr>\n",
       "    <tr>\n",
       "      <th>29</th>\n",
       "      <td>root_shell</td>\n",
       "      <td>22</td>\n",
       "    </tr>\n",
       "    <tr>\n",
       "      <th>15</th>\n",
       "      <td>hot</td>\n",
       "      <td>23</td>\n",
       "    </tr>\n",
       "    <tr>\n",
       "      <th>21</th>\n",
       "      <td>num_compromised</td>\n",
       "      <td>24</td>\n",
       "    </tr>\n",
       "    <tr>\n",
       "      <th>16</th>\n",
       "      <td>is_guest_login</td>\n",
       "      <td>25</td>\n",
       "    </tr>\n",
       "    <tr>\n",
       "      <th>25</th>\n",
       "      <td>num_root</td>\n",
       "      <td>26</td>\n",
       "    </tr>\n",
       "    <tr>\n",
       "      <th>17</th>\n",
       "      <td>is_host_login</td>\n",
       "      <td>27</td>\n",
       "    </tr>\n",
       "    <tr>\n",
       "      <th>38</th>\n",
       "      <td>su_attempted</td>\n",
       "      <td>28</td>\n",
       "    </tr>\n",
       "    <tr>\n",
       "      <th>18</th>\n",
       "      <td>land</td>\n",
       "      <td>29</td>\n",
       "    </tr>\n",
       "    <tr>\n",
       "      <th>39</th>\n",
       "      <td>urgent</td>\n",
       "      <td>30</td>\n",
       "    </tr>\n",
       "    <tr>\n",
       "      <th>40</th>\n",
       "      <td>wrong_fragment</td>\n",
       "      <td>31</td>\n",
       "    </tr>\n",
       "    <tr>\n",
       "      <th>20</th>\n",
       "      <td>num_access_files</td>\n",
       "      <td>32</td>\n",
       "    </tr>\n",
       "  </tbody>\n",
       "</table>\n",
       "</div>"
      ],
      "text/plain": [
       "                        Feature  Rank\n",
       "0                         count     1\n",
       "1                 diff_srv_rate     1\n",
       "2                     dst_bytes     1\n",
       "3                dst_host_count     1\n",
       "32                      service     1\n",
       "7        dst_host_same_srv_rate     1\n",
       "9            dst_host_srv_count     1\n",
       "30                same_srv_rate     1\n",
       "33                    src_bytes     1\n",
       "14                         flag     1\n",
       "4        dst_host_diff_srv_rate     2\n",
       "12     dst_host_srv_serror_rate     3\n",
       "34                    srv_count     4\n",
       "8          dst_host_serror_rate     5\n",
       "6   dst_host_same_src_port_rate     6\n",
       "36               srv_error_rate     7\n",
       "10  dst_host_srv_diff_host_rate     8\n",
       "11     dst_host_srv_rerror_rate     9\n",
       "31                  serror_rate    10\n",
       "27                protocol_type    11\n",
       "5          dst_host_rerror_rate    12\n",
       "19                    logged_in    13\n",
       "35           srv_diff_host_rate    14\n",
       "28                  rerror_rate    15\n",
       "37              srv_rerror_rate    16\n",
       "13                     duration    17\n",
       "22            num_failed_logins    18\n",
       "23           num_file_creations    19\n",
       "24            num_outbound_cmds    20\n",
       "26                   num_shells    21\n",
       "29                   root_shell    22\n",
       "15                          hot    23\n",
       "21              num_compromised    24\n",
       "16               is_guest_login    25\n",
       "25                     num_root    26\n",
       "17                is_host_login    27\n",
       "38                 su_attempted    28\n",
       "18                         land    29\n",
       "39                       urgent    30\n",
       "40               wrong_fragment    31\n",
       "20             num_access_files    32"
      ]
     },
     "execution_count": 57,
     "metadata": {},
     "output_type": "execute_result"
    }
   ],
   "source": [
    "rfe_ranking.sort_values(by = \"Rank\")"
   ]
  },
  {
   "cell_type": "code",
   "execution_count": 58,
   "id": "8fee9d22",
   "metadata": {},
   "outputs": [],
   "source": [
    "final_list = [\n",
    "              'flag',\n",
    "              'dst_host_srv_serror_rate',\n",
    "              'srv_error_rate',\n",
    "              'dst_host_serror_rate',\n",
    "              'serror_rate',\n",
    "              'count',\n",
    "              'service',\n",
    "              'dst_host_diff_srv_rate',\n",
    "              'dst_host_count',\n",
    "              'diff_srv_rate',\n",
    "              'rerror_rate',\n",
    "              'dst_host_srv_rerror_rate',\n",
    "              'src_bytes',\n",
    "              'srv_diff_host_rate',\n",
    "              'dst_bytes',\n",
    "              'dst_host_srv_diff_host_rate',\n",
    "              'logged_in',\n",
    "              'dst_host_srv_count',\n",
    "              'dst_host_same_srv_rate',\n",
    "              'same_srv_rate',\n",
    "             ]"
   ]
  },
  {
   "cell_type": "code",
   "execution_count": 59,
   "id": "f65652e3",
   "metadata": {},
   "outputs": [
    {
     "data": {
      "text/html": [
       "<div>\n",
       "<style scoped>\n",
       "    .dataframe tbody tr th:only-of-type {\n",
       "        vertical-align: middle;\n",
       "    }\n",
       "\n",
       "    .dataframe tbody tr th {\n",
       "        vertical-align: top;\n",
       "    }\n",
       "\n",
       "    .dataframe thead th {\n",
       "        text-align: right;\n",
       "    }\n",
       "</style>\n",
       "<table border=\"1\" class=\"dataframe\">\n",
       "  <thead>\n",
       "    <tr style=\"text-align: right;\">\n",
       "      <th></th>\n",
       "      <th>flag</th>\n",
       "      <th>dst_host_srv_serror_rate</th>\n",
       "      <th>srv_error_rate</th>\n",
       "      <th>dst_host_serror_rate</th>\n",
       "      <th>serror_rate</th>\n",
       "      <th>count</th>\n",
       "      <th>service</th>\n",
       "      <th>dst_host_diff_srv_rate</th>\n",
       "      <th>dst_host_count</th>\n",
       "      <th>diff_srv_rate</th>\n",
       "      <th>rerror_rate</th>\n",
       "      <th>dst_host_srv_rerror_rate</th>\n",
       "      <th>src_bytes</th>\n",
       "      <th>srv_diff_host_rate</th>\n",
       "      <th>dst_bytes</th>\n",
       "      <th>dst_host_srv_diff_host_rate</th>\n",
       "      <th>logged_in</th>\n",
       "      <th>dst_host_srv_count</th>\n",
       "      <th>dst_host_same_srv_rate</th>\n",
       "      <th>same_srv_rate</th>\n",
       "    </tr>\n",
       "  </thead>\n",
       "  <tbody>\n",
       "    <tr>\n",
       "      <th>0</th>\n",
       "      <td>0.0</td>\n",
       "      <td>0.0</td>\n",
       "      <td>0.0</td>\n",
       "      <td>0.0</td>\n",
       "      <td>0.0</td>\n",
       "      <td>0.001</td>\n",
       "      <td>0.00</td>\n",
       "      <td>0.000</td>\n",
       "      <td>0.001</td>\n",
       "      <td>0.0</td>\n",
       "      <td>0.0</td>\n",
       "      <td>0.0</td>\n",
       "      <td>0.07012</td>\n",
       "      <td>0.100</td>\n",
       "      <td>0.08314</td>\n",
       "      <td>0.0</td>\n",
       "      <td>0.1</td>\n",
       "      <td>0.001</td>\n",
       "      <td>0.100</td>\n",
       "      <td>0.1</td>\n",
       "    </tr>\n",
       "    <tr>\n",
       "      <th>1</th>\n",
       "      <td>0.0</td>\n",
       "      <td>0.0</td>\n",
       "      <td>0.0</td>\n",
       "      <td>0.0</td>\n",
       "      <td>0.0</td>\n",
       "      <td>0.002</td>\n",
       "      <td>0.00</td>\n",
       "      <td>0.000</td>\n",
       "      <td>0.002</td>\n",
       "      <td>0.0</td>\n",
       "      <td>0.0</td>\n",
       "      <td>0.0</td>\n",
       "      <td>0.07012</td>\n",
       "      <td>0.067</td>\n",
       "      <td>0.08314</td>\n",
       "      <td>0.0</td>\n",
       "      <td>0.1</td>\n",
       "      <td>0.002</td>\n",
       "      <td>0.100</td>\n",
       "      <td>0.1</td>\n",
       "    </tr>\n",
       "    <tr>\n",
       "      <th>2</th>\n",
       "      <td>0.0</td>\n",
       "      <td>0.0</td>\n",
       "      <td>0.0</td>\n",
       "      <td>0.0</td>\n",
       "      <td>0.0</td>\n",
       "      <td>0.003</td>\n",
       "      <td>0.00</td>\n",
       "      <td>0.000</td>\n",
       "      <td>0.003</td>\n",
       "      <td>0.0</td>\n",
       "      <td>0.0</td>\n",
       "      <td>0.0</td>\n",
       "      <td>0.07012</td>\n",
       "      <td>0.050</td>\n",
       "      <td>0.08314</td>\n",
       "      <td>0.0</td>\n",
       "      <td>0.1</td>\n",
       "      <td>0.003</td>\n",
       "      <td>0.100</td>\n",
       "      <td>0.1</td>\n",
       "    </tr>\n",
       "    <tr>\n",
       "      <th>3</th>\n",
       "      <td>0.0</td>\n",
       "      <td>0.0</td>\n",
       "      <td>0.0</td>\n",
       "      <td>0.0</td>\n",
       "      <td>0.0</td>\n",
       "      <td>0.004</td>\n",
       "      <td>0.00</td>\n",
       "      <td>0.000</td>\n",
       "      <td>0.004</td>\n",
       "      <td>0.0</td>\n",
       "      <td>0.0</td>\n",
       "      <td>0.0</td>\n",
       "      <td>0.07012</td>\n",
       "      <td>0.000</td>\n",
       "      <td>0.08314</td>\n",
       "      <td>0.0</td>\n",
       "      <td>0.1</td>\n",
       "      <td>0.004</td>\n",
       "      <td>0.100</td>\n",
       "      <td>0.1</td>\n",
       "    </tr>\n",
       "    <tr>\n",
       "      <th>4</th>\n",
       "      <td>0.0</td>\n",
       "      <td>0.0</td>\n",
       "      <td>0.0</td>\n",
       "      <td>0.0</td>\n",
       "      <td>0.0</td>\n",
       "      <td>0.004</td>\n",
       "      <td>0.00</td>\n",
       "      <td>0.000</td>\n",
       "      <td>0.005</td>\n",
       "      <td>0.0</td>\n",
       "      <td>0.0</td>\n",
       "      <td>0.0</td>\n",
       "      <td>0.07012</td>\n",
       "      <td>0.000</td>\n",
       "      <td>0.08314</td>\n",
       "      <td>0.0</td>\n",
       "      <td>0.1</td>\n",
       "      <td>0.005</td>\n",
       "      <td>0.100</td>\n",
       "      <td>0.1</td>\n",
       "    </tr>\n",
       "    <tr>\n",
       "      <th>...</th>\n",
       "      <td>...</td>\n",
       "      <td>...</td>\n",
       "      <td>...</td>\n",
       "      <td>...</td>\n",
       "      <td>...</td>\n",
       "      <td>...</td>\n",
       "      <td>...</td>\n",
       "      <td>...</td>\n",
       "      <td>...</td>\n",
       "      <td>...</td>\n",
       "      <td>...</td>\n",
       "      <td>...</td>\n",
       "      <td>...</td>\n",
       "      <td>...</td>\n",
       "      <td>...</td>\n",
       "      <td>...</td>\n",
       "      <td>...</td>\n",
       "      <td>...</td>\n",
       "      <td>...</td>\n",
       "      <td>...</td>\n",
       "    </tr>\n",
       "    <tr>\n",
       "      <th>3002</th>\n",
       "      <td>0.0</td>\n",
       "      <td>0.0</td>\n",
       "      <td>0.0</td>\n",
       "      <td>0.0</td>\n",
       "      <td>0.0</td>\n",
       "      <td>0.251</td>\n",
       "      <td>0.09</td>\n",
       "      <td>0.001</td>\n",
       "      <td>0.255</td>\n",
       "      <td>0.0</td>\n",
       "      <td>0.0</td>\n",
       "      <td>0.0</td>\n",
       "      <td>0.01032</td>\n",
       "      <td>0.000</td>\n",
       "      <td>0.00000</td>\n",
       "      <td>0.0</td>\n",
       "      <td>0.0</td>\n",
       "      <td>0.251</td>\n",
       "      <td>0.098</td>\n",
       "      <td>0.1</td>\n",
       "    </tr>\n",
       "    <tr>\n",
       "      <th>3003</th>\n",
       "      <td>0.0</td>\n",
       "      <td>0.0</td>\n",
       "      <td>0.0</td>\n",
       "      <td>0.0</td>\n",
       "      <td>0.0</td>\n",
       "      <td>0.252</td>\n",
       "      <td>0.09</td>\n",
       "      <td>0.001</td>\n",
       "      <td>0.255</td>\n",
       "      <td>0.0</td>\n",
       "      <td>0.0</td>\n",
       "      <td>0.0</td>\n",
       "      <td>0.01032</td>\n",
       "      <td>0.000</td>\n",
       "      <td>0.00000</td>\n",
       "      <td>0.0</td>\n",
       "      <td>0.0</td>\n",
       "      <td>0.252</td>\n",
       "      <td>0.099</td>\n",
       "      <td>0.1</td>\n",
       "    </tr>\n",
       "    <tr>\n",
       "      <th>3004</th>\n",
       "      <td>0.0</td>\n",
       "      <td>0.0</td>\n",
       "      <td>0.0</td>\n",
       "      <td>0.0</td>\n",
       "      <td>0.0</td>\n",
       "      <td>0.253</td>\n",
       "      <td>0.09</td>\n",
       "      <td>0.001</td>\n",
       "      <td>0.255</td>\n",
       "      <td>0.0</td>\n",
       "      <td>0.0</td>\n",
       "      <td>0.0</td>\n",
       "      <td>0.01032</td>\n",
       "      <td>0.000</td>\n",
       "      <td>0.00000</td>\n",
       "      <td>0.0</td>\n",
       "      <td>0.0</td>\n",
       "      <td>0.253</td>\n",
       "      <td>0.099</td>\n",
       "      <td>0.1</td>\n",
       "    </tr>\n",
       "    <tr>\n",
       "      <th>3005</th>\n",
       "      <td>0.0</td>\n",
       "      <td>0.0</td>\n",
       "      <td>0.0</td>\n",
       "      <td>0.0</td>\n",
       "      <td>0.0</td>\n",
       "      <td>0.254</td>\n",
       "      <td>0.09</td>\n",
       "      <td>0.001</td>\n",
       "      <td>0.255</td>\n",
       "      <td>0.0</td>\n",
       "      <td>0.0</td>\n",
       "      <td>0.0</td>\n",
       "      <td>0.01032</td>\n",
       "      <td>0.000</td>\n",
       "      <td>0.00000</td>\n",
       "      <td>0.0</td>\n",
       "      <td>0.0</td>\n",
       "      <td>0.254</td>\n",
       "      <td>0.100</td>\n",
       "      <td>0.1</td>\n",
       "    </tr>\n",
       "    <tr>\n",
       "      <th>3006</th>\n",
       "      <td>0.0</td>\n",
       "      <td>0.0</td>\n",
       "      <td>0.0</td>\n",
       "      <td>0.0</td>\n",
       "      <td>0.0</td>\n",
       "      <td>0.034</td>\n",
       "      <td>0.12</td>\n",
       "      <td>0.001</td>\n",
       "      <td>0.255</td>\n",
       "      <td>0.0</td>\n",
       "      <td>0.0</td>\n",
       "      <td>0.0</td>\n",
       "      <td>0.00028</td>\n",
       "      <td>0.000</td>\n",
       "      <td>0.00000</td>\n",
       "      <td>0.0</td>\n",
       "      <td>0.0</td>\n",
       "      <td>0.001</td>\n",
       "      <td>0.000</td>\n",
       "      <td>0.1</td>\n",
       "    </tr>\n",
       "  </tbody>\n",
       "</table>\n",
       "<p>817551 rows × 20 columns</p>\n",
       "</div>"
      ],
      "text/plain": [
       "      flag  dst_host_srv_serror_rate  srv_error_rate  dst_host_serror_rate  \\\n",
       "0      0.0                       0.0             0.0                   0.0   \n",
       "1      0.0                       0.0             0.0                   0.0   \n",
       "2      0.0                       0.0             0.0                   0.0   \n",
       "3      0.0                       0.0             0.0                   0.0   \n",
       "4      0.0                       0.0             0.0                   0.0   \n",
       "...    ...                       ...             ...                   ...   \n",
       "3002   0.0                       0.0             0.0                   0.0   \n",
       "3003   0.0                       0.0             0.0                   0.0   \n",
       "3004   0.0                       0.0             0.0                   0.0   \n",
       "3005   0.0                       0.0             0.0                   0.0   \n",
       "3006   0.0                       0.0             0.0                   0.0   \n",
       "\n",
       "      serror_rate  count  service  dst_host_diff_srv_rate  dst_host_count  \\\n",
       "0             0.0  0.001     0.00                   0.000           0.001   \n",
       "1             0.0  0.002     0.00                   0.000           0.002   \n",
       "2             0.0  0.003     0.00                   0.000           0.003   \n",
       "3             0.0  0.004     0.00                   0.000           0.004   \n",
       "4             0.0  0.004     0.00                   0.000           0.005   \n",
       "...           ...    ...      ...                     ...             ...   \n",
       "3002          0.0  0.251     0.09                   0.001           0.255   \n",
       "3003          0.0  0.252     0.09                   0.001           0.255   \n",
       "3004          0.0  0.253     0.09                   0.001           0.255   \n",
       "3005          0.0  0.254     0.09                   0.001           0.255   \n",
       "3006          0.0  0.034     0.12                   0.001           0.255   \n",
       "\n",
       "      diff_srv_rate  rerror_rate  dst_host_srv_rerror_rate  src_bytes  \\\n",
       "0               0.0          0.0                       0.0    0.07012   \n",
       "1               0.0          0.0                       0.0    0.07012   \n",
       "2               0.0          0.0                       0.0    0.07012   \n",
       "3               0.0          0.0                       0.0    0.07012   \n",
       "4               0.0          0.0                       0.0    0.07012   \n",
       "...             ...          ...                       ...        ...   \n",
       "3002            0.0          0.0                       0.0    0.01032   \n",
       "3003            0.0          0.0                       0.0    0.01032   \n",
       "3004            0.0          0.0                       0.0    0.01032   \n",
       "3005            0.0          0.0                       0.0    0.01032   \n",
       "3006            0.0          0.0                       0.0    0.00028   \n",
       "\n",
       "      srv_diff_host_rate  dst_bytes  dst_host_srv_diff_host_rate  logged_in  \\\n",
       "0                  0.100    0.08314                          0.0        0.1   \n",
       "1                  0.067    0.08314                          0.0        0.1   \n",
       "2                  0.050    0.08314                          0.0        0.1   \n",
       "3                  0.000    0.08314                          0.0        0.1   \n",
       "4                  0.000    0.08314                          0.0        0.1   \n",
       "...                  ...        ...                          ...        ...   \n",
       "3002               0.000    0.00000                          0.0        0.0   \n",
       "3003               0.000    0.00000                          0.0        0.0   \n",
       "3004               0.000    0.00000                          0.0        0.0   \n",
       "3005               0.000    0.00000                          0.0        0.0   \n",
       "3006               0.000    0.00000                          0.0        0.0   \n",
       "\n",
       "      dst_host_srv_count  dst_host_same_srv_rate  same_srv_rate  \n",
       "0                  0.001                   0.100            0.1  \n",
       "1                  0.002                   0.100            0.1  \n",
       "2                  0.003                   0.100            0.1  \n",
       "3                  0.004                   0.100            0.1  \n",
       "4                  0.005                   0.100            0.1  \n",
       "...                  ...                     ...            ...  \n",
       "3002               0.251                   0.098            0.1  \n",
       "3003               0.252                   0.099            0.1  \n",
       "3004               0.253                   0.099            0.1  \n",
       "3005               0.254                   0.100            0.1  \n",
       "3006               0.001                   0.000            0.1  \n",
       "\n",
       "[817551 rows x 20 columns]"
      ]
     },
     "execution_count": 59,
     "metadata": {},
     "output_type": "execute_result"
    }
   ],
   "source": [
    "features[final_list]"
   ]
  },
  {
   "cell_type": "code",
   "execution_count": 60,
   "id": "54006898",
   "metadata": {},
   "outputs": [],
   "source": [
    "#Multicollinearity check using VIF approach\n",
    "\n",
    "from statsmodels.stats.outliers_influence import variance_inflation_factor"
   ]
  },
  {
   "cell_type": "code",
   "execution_count": 61,
   "id": "84cf6784",
   "metadata": {},
   "outputs": [
    {
     "name": "stderr",
     "output_type": "stream",
     "text": [
      "C:\\Users\\saach\\Anaconda3\\lib\\site-packages\\statsmodels\\regression\\linear_model.py:1717: RuntimeWarning: invalid value encountered in double_scalars\n",
      "  return 1 - self.ssr/self.uncentered_tss\n"
     ]
    }
   ],
   "source": [
    "VIF = pd.Series([variance_inflation_factor(features[list].values, i) for i in range(len(final_list))])"
   ]
  },
  {
   "cell_type": "code",
   "execution_count": 62,
   "id": "76e2ec2e",
   "metadata": {},
   "outputs": [],
   "source": [
    "VIF_value = pd.concat([pd.Series(final_list),VIF], axis =1)\n",
    "VIF_value.columns = [\"feature,\", \"vif\"]"
   ]
  },
  {
   "cell_type": "code",
   "execution_count": 63,
   "id": "98fd4fd4",
   "metadata": {},
   "outputs": [
    {
     "data": {
      "text/html": [
       "<div>\n",
       "<style scoped>\n",
       "    .dataframe tbody tr th:only-of-type {\n",
       "        vertical-align: middle;\n",
       "    }\n",
       "\n",
       "    .dataframe tbody tr th {\n",
       "        vertical-align: top;\n",
       "    }\n",
       "\n",
       "    .dataframe thead th {\n",
       "        text-align: right;\n",
       "    }\n",
       "</style>\n",
       "<table border=\"1\" class=\"dataframe\">\n",
       "  <thead>\n",
       "    <tr style=\"text-align: right;\">\n",
       "      <th></th>\n",
       "      <th>feature,</th>\n",
       "      <th>vif</th>\n",
       "    </tr>\n",
       "  </thead>\n",
       "  <tbody>\n",
       "    <tr>\n",
       "      <th>12</th>\n",
       "      <td>src_bytes</td>\n",
       "      <td>713.050538</td>\n",
       "    </tr>\n",
       "    <tr>\n",
       "      <th>14</th>\n",
       "      <td>dst_bytes</td>\n",
       "      <td>428.024958</td>\n",
       "    </tr>\n",
       "    <tr>\n",
       "      <th>8</th>\n",
       "      <td>dst_host_count</td>\n",
       "      <td>390.893393</td>\n",
       "    </tr>\n",
       "    <tr>\n",
       "      <th>7</th>\n",
       "      <td>dst_host_diff_srv_rate</td>\n",
       "      <td>67.071874</td>\n",
       "    </tr>\n",
       "    <tr>\n",
       "      <th>19</th>\n",
       "      <td>same_srv_rate</td>\n",
       "      <td>43.741294</td>\n",
       "    </tr>\n",
       "    <tr>\n",
       "      <th>9</th>\n",
       "      <td>diff_srv_rate</td>\n",
       "      <td>36.887370</td>\n",
       "    </tr>\n",
       "    <tr>\n",
       "      <th>11</th>\n",
       "      <td>dst_host_srv_rerror_rate</td>\n",
       "      <td>36.209541</td>\n",
       "    </tr>\n",
       "    <tr>\n",
       "      <th>5</th>\n",
       "      <td>count</td>\n",
       "      <td>23.967956</td>\n",
       "    </tr>\n",
       "    <tr>\n",
       "      <th>3</th>\n",
       "      <td>dst_host_serror_rate</td>\n",
       "      <td>9.269243</td>\n",
       "    </tr>\n",
       "    <tr>\n",
       "      <th>0</th>\n",
       "      <td>flag</td>\n",
       "      <td>7.054859</td>\n",
       "    </tr>\n",
       "    <tr>\n",
       "      <th>4</th>\n",
       "      <td>serror_rate</td>\n",
       "      <td>3.432405</td>\n",
       "    </tr>\n",
       "    <tr>\n",
       "      <th>10</th>\n",
       "      <td>rerror_rate</td>\n",
       "      <td>3.035416</td>\n",
       "    </tr>\n",
       "    <tr>\n",
       "      <th>1</th>\n",
       "      <td>dst_host_srv_serror_rate</td>\n",
       "      <td>2.075083</td>\n",
       "    </tr>\n",
       "    <tr>\n",
       "      <th>6</th>\n",
       "      <td>service</td>\n",
       "      <td>1.573230</td>\n",
       "    </tr>\n",
       "    <tr>\n",
       "      <th>2</th>\n",
       "      <td>srv_error_rate</td>\n",
       "      <td>1.420385</td>\n",
       "    </tr>\n",
       "    <tr>\n",
       "      <th>13</th>\n",
       "      <td>srv_diff_host_rate</td>\n",
       "      <td>1.148447</td>\n",
       "    </tr>\n",
       "    <tr>\n",
       "      <th>15</th>\n",
       "      <td>dst_host_srv_diff_host_rate</td>\n",
       "      <td>NaN</td>\n",
       "    </tr>\n",
       "    <tr>\n",
       "      <th>16</th>\n",
       "      <td>logged_in</td>\n",
       "      <td>NaN</td>\n",
       "    </tr>\n",
       "    <tr>\n",
       "      <th>17</th>\n",
       "      <td>dst_host_srv_count</td>\n",
       "      <td>NaN</td>\n",
       "    </tr>\n",
       "    <tr>\n",
       "      <th>18</th>\n",
       "      <td>dst_host_same_srv_rate</td>\n",
       "      <td>NaN</td>\n",
       "    </tr>\n",
       "  </tbody>\n",
       "</table>\n",
       "</div>"
      ],
      "text/plain": [
       "                       feature,         vif\n",
       "12                    src_bytes  713.050538\n",
       "14                    dst_bytes  428.024958\n",
       "8                dst_host_count  390.893393\n",
       "7        dst_host_diff_srv_rate   67.071874\n",
       "19                same_srv_rate   43.741294\n",
       "9                 diff_srv_rate   36.887370\n",
       "11     dst_host_srv_rerror_rate   36.209541\n",
       "5                         count   23.967956\n",
       "3          dst_host_serror_rate    9.269243\n",
       "0                          flag    7.054859\n",
       "4                   serror_rate    3.432405\n",
       "10                  rerror_rate    3.035416\n",
       "1      dst_host_srv_serror_rate    2.075083\n",
       "6                       service    1.573230\n",
       "2                srv_error_rate    1.420385\n",
       "13           srv_diff_host_rate    1.148447\n",
       "15  dst_host_srv_diff_host_rate         NaN\n",
       "16                    logged_in         NaN\n",
       "17           dst_host_srv_count         NaN\n",
       "18       dst_host_same_srv_rate         NaN"
      ]
     },
     "execution_count": 63,
     "metadata": {},
     "output_type": "execute_result"
    }
   ],
   "source": [
    "VIF_value.sort_values(by = \"vif\", ascending = False)"
   ]
  },
  {
   "cell_type": "markdown",
   "id": "3a49d0ba",
   "metadata": {},
   "source": [
    "### Since all the VIF values are HIGH. There is multicollinearity"
   ]
  },
  {
   "cell_type": "markdown",
   "id": "485b3a3d",
   "metadata": {},
   "source": [
    "# Splitting the model in train and test for Binomial Classification"
   ]
  },
  {
   "cell_type": "code",
   "execution_count": 64,
   "id": "02c87654",
   "metadata": {},
   "outputs": [],
   "source": [
    "Y_res = data_bin.Attack_bin\n",
    "X_res = features[final_list]"
   ]
  },
  {
   "cell_type": "code",
   "execution_count": 65,
   "id": "8375b083",
   "metadata": {},
   "outputs": [],
   "source": [
    "from sklearn.model_selection import train_test_split, GridSearchCV\n",
    "\n",
    "train_X, test_X, train_Y, test_Y=train_test_split(X_res, Y_res, test_size=0.3, random_state =123)"
   ]
  },
  {
   "cell_type": "markdown",
   "id": "6e9c6641",
   "metadata": {},
   "source": [
    "# Splitting the model in train and test for Multinomial Classification"
   ]
  },
  {
   "cell_type": "code",
   "execution_count": 66,
   "id": "9dae958e",
   "metadata": {},
   "outputs": [],
   "source": [
    "Y_res_mul = data_mul.Attack_mul\n",
    "X_res = features[final_list]"
   ]
  },
  {
   "cell_type": "code",
   "execution_count": null,
   "id": "fab1698f",
   "metadata": {},
   "outputs": [],
   "source": [
    "from sklearn.model_selection import train_test_split, GridSearchCV\n",
    "\n",
    "train_X_mul, test_X_mul, train_Y_mul, test_Y_mul =train_test_split(X_res, Y_res_mul, test_size=0.3, random_state =123)"
   ]
  },
  {
   "cell_type": "markdown",
   "id": "07f3b1ff",
   "metadata": {},
   "source": [
    "# Model Building"
   ]
  },
  {
   "cell_type": "markdown",
   "id": "0d1d726e",
   "metadata": {},
   "source": [
    "# Logistic Regression"
   ]
  },
  {
   "cell_type": "code",
   "execution_count": 67,
   "id": "6cafd600",
   "metadata": {},
   "outputs": [],
   "source": [
    "from sklearn.linear_model import LogisticRegression"
   ]
  },
  {
   "cell_type": "code",
   "execution_count": 68,
   "id": "0465c4c0",
   "metadata": {},
   "outputs": [],
   "source": [
    "model = LogisticRegression()"
   ]
  },
  {
   "cell_type": "code",
   "execution_count": 69,
   "id": "a927dbb9",
   "metadata": {},
   "outputs": [],
   "source": [
    "model = model.fit(train_X, train_Y)"
   ]
  },
  {
   "cell_type": "code",
   "execution_count": 70,
   "id": "74b5a107",
   "metadata": {},
   "outputs": [
    {
     "data": {
      "text/plain": [
       "array([-2.54408314])"
      ]
     },
     "execution_count": 70,
     "metadata": {},
     "output_type": "execute_result"
    }
   ],
   "source": [
    "model.intercept_"
   ]
  },
  {
   "cell_type": "code",
   "execution_count": 71,
   "id": "80c826a3",
   "metadata": {
    "scrolled": true
   },
   "outputs": [
    {
     "data": {
      "text/plain": [
       "array([[ 16.62689988,  10.66037741,   9.98218466,   8.70055613,\n",
       "          9.44498738,  16.40771205,   9.17371474,  14.23338505,\n",
       "          8.05720459,  -0.2201503 ,   5.95303966,   5.43009984,\n",
       "         15.82048152,  10.4878327 ,   6.37820579,   3.97385638,\n",
       "        -18.84242627, -14.78824993,  12.83887991, -21.46189525]])"
      ]
     },
     "execution_count": 71,
     "metadata": {},
     "output_type": "execute_result"
    }
   ],
   "source": [
    "model.coef_"
   ]
  },
  {
   "cell_type": "code",
   "execution_count": 72,
   "id": "88cdfe54",
   "metadata": {},
   "outputs": [],
   "source": [
    "pred_train_Y = model.predict(train_X)\n",
    "pred_test_Y = model.predict(test_X)"
   ]
  },
  {
   "cell_type": "code",
   "execution_count": 73,
   "id": "f514d2ce",
   "metadata": {},
   "outputs": [],
   "source": [
    "from sklearn import metrics"
   ]
  },
  {
   "cell_type": "code",
   "execution_count": 74,
   "id": "f125574d",
   "metadata": {},
   "outputs": [
    {
     "name": "stdout",
     "output_type": "stream",
     "text": [
      "              precision    recall  f1-score   support\n",
      "\n",
      "           1       0.99      1.00      1.00    403432\n",
      "           2       1.00      0.98      0.99    168853\n",
      "\n",
      "    accuracy                           0.99    572285\n",
      "   macro avg       0.99      0.99      0.99    572285\n",
      "weighted avg       0.99      0.99      0.99    572285\n",
      "\n"
     ]
    }
   ],
   "source": [
    "print(metrics.classification_report(train_Y, pred_train_Y))"
   ]
  },
  {
   "cell_type": "code",
   "execution_count": 75,
   "id": "abd2e276",
   "metadata": {},
   "outputs": [
    {
     "name": "stdout",
     "output_type": "stream",
     "text": [
      "              precision    recall  f1-score   support\n",
      "\n",
      "           1       0.99      1.00      1.00    173278\n",
      "           2       1.00      0.98      0.99     71988\n",
      "\n",
      "    accuracy                           0.99    245266\n",
      "   macro avg       0.99      0.99      0.99    245266\n",
      "weighted avg       0.99      0.99      0.99    245266\n",
      "\n"
     ]
    }
   ],
   "source": [
    "print(metrics.classification_report(test_Y, pred_test_Y))"
   ]
  },
  {
   "cell_type": "code",
   "execution_count": 76,
   "id": "6907a935",
   "metadata": {},
   "outputs": [],
   "source": [
    "train_prob_Y = model.predict_proba(train_X)\n",
    "test_prob_Y = model.predict_proba(test_X)"
   ]
  },
  {
   "cell_type": "code",
   "execution_count": 77,
   "id": "e76567a3",
   "metadata": {},
   "outputs": [],
   "source": [
    "train_prob = pd.DataFrame(train_prob_Y)[1]\n",
    "test_prob = pd.DataFrame(test_prob_Y)[1]"
   ]
  },
  {
   "cell_type": "code",
   "execution_count": 78,
   "id": "4e804dcc",
   "metadata": {},
   "outputs": [
    {
     "data": {
      "text/plain": [
       "0.9991578021723841"
      ]
     },
     "execution_count": 78,
     "metadata": {},
     "output_type": "execute_result"
    }
   ],
   "source": [
    "metrics.roc_auc_score(train_Y, train_prob)"
   ]
  },
  {
   "cell_type": "code",
   "execution_count": 79,
   "id": "8ea98888",
   "metadata": {},
   "outputs": [
    {
     "data": {
      "text/plain": [
       "0.9991495673510501"
      ]
     },
     "execution_count": 79,
     "metadata": {},
     "output_type": "execute_result"
    }
   ],
   "source": [
    "metrics.roc_auc_score(test_Y, test_prob)"
   ]
  },
  {
   "cell_type": "markdown",
   "id": "01206d35",
   "metadata": {},
   "source": [
    "# Naive Bayes"
   ]
  },
  {
   "cell_type": "code",
   "execution_count": 80,
   "id": "aaca6339",
   "metadata": {},
   "outputs": [],
   "source": [
    "from sklearn.naive_bayes import GaussianNB, MultinomialNB, BernoulliNB"
   ]
  },
  {
   "cell_type": "code",
   "execution_count": 81,
   "id": "67086974",
   "metadata": {},
   "outputs": [],
   "source": [
    "model = BernoulliNB()"
   ]
  },
  {
   "cell_type": "code",
   "execution_count": 82,
   "id": "9c57c906",
   "metadata": {},
   "outputs": [],
   "source": [
    "model = model.fit(train_X, train_Y)"
   ]
  },
  {
   "cell_type": "code",
   "execution_count": 83,
   "id": "8b967d3d",
   "metadata": {},
   "outputs": [],
   "source": [
    "pred_train_Y = model.predict(train_X)\n",
    "pred_test_Y = model.predict(test_X)"
   ]
  },
  {
   "cell_type": "code",
   "execution_count": 84,
   "id": "67f3c4a9",
   "metadata": {},
   "outputs": [],
   "source": [
    "from sklearn import metrics"
   ]
  },
  {
   "cell_type": "code",
   "execution_count": 85,
   "id": "6579f60d",
   "metadata": {
    "scrolled": false
   },
   "outputs": [
    {
     "name": "stdout",
     "output_type": "stream",
     "text": [
      "              precision    recall  f1-score   support\n",
      "\n",
      "           1       0.99      1.00      0.99    403432\n",
      "           2       1.00      0.97      0.98    168853\n",
      "\n",
      "    accuracy                           0.99    572285\n",
      "   macro avg       0.99      0.99      0.99    572285\n",
      "weighted avg       0.99      0.99      0.99    572285\n",
      "\n"
     ]
    }
   ],
   "source": [
    "print(metrics.classification_report(train_Y, pred_train_Y))"
   ]
  },
  {
   "cell_type": "code",
   "execution_count": 86,
   "id": "1e24edfe",
   "metadata": {
    "scrolled": false
   },
   "outputs": [
    {
     "name": "stdout",
     "output_type": "stream",
     "text": [
      "              precision    recall  f1-score   support\n",
      "\n",
      "           1       0.99      1.00      0.99    173278\n",
      "           2       1.00      0.97      0.98     71988\n",
      "\n",
      "    accuracy                           0.99    245266\n",
      "   macro avg       0.99      0.99      0.99    245266\n",
      "weighted avg       0.99      0.99      0.99    245266\n",
      "\n"
     ]
    }
   ],
   "source": [
    "print(metrics.classification_report(test_Y, pred_test_Y))"
   ]
  },
  {
   "cell_type": "code",
   "execution_count": 87,
   "id": "aafb76dd",
   "metadata": {},
   "outputs": [],
   "source": [
    "train_prob_Y = model.predict_proba(train_X)\n",
    "test_prob_Y = model.predict_proba(test_X)"
   ]
  },
  {
   "cell_type": "code",
   "execution_count": 88,
   "id": "f6bea4f7",
   "metadata": {},
   "outputs": [],
   "source": [
    "train_prob = pd.DataFrame(train_prob_Y)[1]\n",
    "test_prob = pd.DataFrame(test_prob_Y)[1]"
   ]
  },
  {
   "cell_type": "code",
   "execution_count": 89,
   "id": "886a4c27",
   "metadata": {
    "scrolled": false
   },
   "outputs": [
    {
     "data": {
      "text/plain": [
       "0.997899219581483"
      ]
     },
     "execution_count": 89,
     "metadata": {},
     "output_type": "execute_result"
    }
   ],
   "source": [
    "metrics.roc_auc_score(train_Y, train_prob)"
   ]
  },
  {
   "cell_type": "code",
   "execution_count": 90,
   "id": "ff010a88",
   "metadata": {
    "scrolled": false
   },
   "outputs": [
    {
     "data": {
      "text/plain": [
       "0.9979475070950224"
      ]
     },
     "execution_count": 90,
     "metadata": {},
     "output_type": "execute_result"
    }
   ],
   "source": [
    "metrics.roc_auc_score(test_Y, test_prob)"
   ]
  },
  {
   "cell_type": "markdown",
   "id": "f14d30a4",
   "metadata": {},
   "source": [
    "# KNN"
   ]
  },
  {
   "cell_type": "markdown",
   "id": "9c46d896",
   "metadata": {},
   "source": [
    "## Standardise the data"
   ]
  },
  {
   "cell_type": "code",
   "execution_count": 91,
   "id": "7fde05c1",
   "metadata": {},
   "outputs": [],
   "source": [
    "from sklearn.preprocessing import StandardScaler, MinMaxScaler"
   ]
  },
  {
   "cell_type": "code",
   "execution_count": 92,
   "id": "e70c66d7",
   "metadata": {},
   "outputs": [],
   "source": [
    "sc = StandardScaler()"
   ]
  },
  {
   "cell_type": "code",
   "execution_count": 93,
   "id": "2da9d13b",
   "metadata": {},
   "outputs": [],
   "source": [
    "sc = sc.fit(train_X)"
   ]
  },
  {
   "cell_type": "code",
   "execution_count": 94,
   "id": "a0022298",
   "metadata": {},
   "outputs": [],
   "source": [
    "train_X_std = pd.DataFrame(sc.transform(train_X), columns = train_X.columns)\n",
    "\n",
    "test_X_std = pd.DataFrame(sc.transform(test_X), columns = test_X.columns)"
   ]
  },
  {
   "cell_type": "markdown",
   "id": "2b601104",
   "metadata": {},
   "source": [
    "### 1. When you don't know the tuning parameter"
   ]
  },
  {
   "cell_type": "code",
   "execution_count": 95,
   "id": "eaa84e2d",
   "metadata": {},
   "outputs": [],
   "source": [
    "from sklearn.neighbors import KNeighborsClassifier\n",
    "from sklearn.model_selection import GridSearchCV"
   ]
  },
  {
   "cell_type": "code",
   "execution_count": 96,
   "id": "d233c9f6",
   "metadata": {},
   "outputs": [],
   "source": [
    "grid = {\"n_neighbors\": [4,5,6,7,8], \"weights\": [\"uniform\", \"distance\"]}"
   ]
  },
  {
   "cell_type": "code",
   "execution_count": 97,
   "id": "ff703eaa",
   "metadata": {},
   "outputs": [],
   "source": [
    "model = GridSearchCV(KNeighborsClassifier(), grid, n_jobs = -1, verbose = True, cv = 10, scoring = \"accuracy\")"
   ]
  },
  {
   "cell_type": "code",
   "execution_count": null,
   "id": "8568ea3e",
   "metadata": {
    "scrolled": false
   },
   "outputs": [
    {
     "name": "stdout",
     "output_type": "stream",
     "text": [
      "Fitting 10 folds for each of 10 candidates, totalling 100 fits\n"
     ]
    }
   ],
   "source": [
    "model = model.fit(train_X_std, train_Y)"
   ]
  },
  {
   "cell_type": "code",
   "execution_count": null,
   "id": "0b42dfd5",
   "metadata": {
    "scrolled": true
   },
   "outputs": [],
   "source": [
    "model.set_params"
   ]
  },
  {
   "cell_type": "code",
   "execution_count": null,
   "id": "e3a2a27d",
   "metadata": {},
   "outputs": [],
   "source": [
    "model.best_sc"
   ]
  },
  {
   "cell_type": "markdown",
   "id": "90113e9d",
   "metadata": {},
   "source": [
    "### 2. When you know the tuning parameter"
   ]
  },
  {
   "cell_type": "code",
   "execution_count": null,
   "id": "f3ea2ecc",
   "metadata": {},
   "outputs": [],
   "source": [
    "model = KNeighborsClassifier(n_neighbors = , weights = , n_jobs = -1)"
   ]
  },
  {
   "cell_type": "code",
   "execution_count": null,
   "id": "f9da3ab8",
   "metadata": {},
   "outputs": [],
   "source": [
    "model = model.fit(train_X_std, train_Y)"
   ]
  },
  {
   "cell_type": "code",
   "execution_count": null,
   "id": "b178f8f6",
   "metadata": {},
   "outputs": [],
   "source": [
    "pred_train_Y = model.predict(train_X_std)\n",
    "pred_test_Y = model.predict(test_X_std)"
   ]
  },
  {
   "cell_type": "code",
   "execution_count": null,
   "id": "e28ca748",
   "metadata": {},
   "outputs": [],
   "source": [
    "from sklearn import metrics"
   ]
  },
  {
   "cell_type": "code",
   "execution_count": null,
   "id": "4522c3f0",
   "metadata": {
    "scrolled": false
   },
   "outputs": [],
   "source": [
    "print(metrics.classification_report(train_Y, pred_train_Y))"
   ]
  },
  {
   "cell_type": "code",
   "execution_count": null,
   "id": "1d52831b",
   "metadata": {
    "scrolled": false
   },
   "outputs": [],
   "source": [
    "print(metrics.classification_report(test_Y, pred_test_Y))"
   ]
  },
  {
   "cell_type": "code",
   "execution_count": null,
   "id": "9f22029d",
   "metadata": {},
   "outputs": [],
   "source": [
    "train_prob_Y = model.predict_proba(train_X_std)\n",
    "test_prob_Y = model.predict_proba(test_X_std)"
   ]
  },
  {
   "cell_type": "code",
   "execution_count": null,
   "id": "bb874bf1",
   "metadata": {},
   "outputs": [],
   "source": [
    "train_prob = pd.DataFrame(train_prob_Y)[1]\n",
    "test_prob = pd.DataFrame(test_prob_Y)[1]"
   ]
  },
  {
   "cell_type": "code",
   "execution_count": null,
   "id": "14b188de",
   "metadata": {
    "scrolled": false
   },
   "outputs": [],
   "source": [
    "metrics.roc_auc_score(train_Y, train_prob)"
   ]
  },
  {
   "cell_type": "code",
   "execution_count": null,
   "id": "bd9a8b65",
   "metadata": {
    "scrolled": false
   },
   "outputs": [],
   "source": [
    "metrics.roc_auc_score(test_Y, test_prob)"
   ]
  }
 ],
 "metadata": {
  "kernelspec": {
   "display_name": "Python 3",
   "language": "python",
   "name": "python3"
  },
  "language_info": {
   "codemirror_mode": {
    "name": "ipython",
    "version": 3
   },
   "file_extension": ".py",
   "mimetype": "text/x-python",
   "name": "python",
   "nbconvert_exporter": "python",
   "pygments_lexer": "ipython3",
   "version": "3.8.8"
  }
 },
 "nbformat": 4,
 "nbformat_minor": 5
}
